{
 "cells": [
  {
   "cell_type": "code",
   "execution_count": 1,
   "id": "e4563918",
   "metadata": {},
   "outputs": [],
   "source": [
    "import pandas as pd"
   ]
  },
  {
   "cell_type": "code",
   "execution_count": 2,
   "id": "bef46635",
   "metadata": {},
   "outputs": [],
   "source": [
    "ds=pd.read_csv('train.csv')"
   ]
  },
  {
   "cell_type": "code",
   "execution_count": 3,
   "id": "5a402178",
   "metadata": {},
   "outputs": [
    {
     "data": {
      "text/html": [
       "<div>\n",
       "<style scoped>\n",
       "    .dataframe tbody tr th:only-of-type {\n",
       "        vertical-align: middle;\n",
       "    }\n",
       "\n",
       "    .dataframe tbody tr th {\n",
       "        vertical-align: top;\n",
       "    }\n",
       "\n",
       "    .dataframe thead th {\n",
       "        text-align: right;\n",
       "    }\n",
       "</style>\n",
       "<table border=\"1\" class=\"dataframe\">\n",
       "  <thead>\n",
       "    <tr style=\"text-align: right;\">\n",
       "      <th></th>\n",
       "      <th>PassengerId</th>\n",
       "      <th>Survived</th>\n",
       "      <th>Pclass</th>\n",
       "      <th>Name</th>\n",
       "      <th>Sex</th>\n",
       "      <th>Age</th>\n",
       "      <th>Sib/Sp</th>\n",
       "      <th>Par/Ch</th>\n",
       "      <th>Ticket</th>\n",
       "      <th>Fare</th>\n",
       "      <th>Cabin</th>\n",
       "      <th>Embarked</th>\n",
       "    </tr>\n",
       "  </thead>\n",
       "  <tbody>\n",
       "    <tr>\n",
       "      <th>0</th>\n",
       "      <td>1</td>\n",
       "      <td>0</td>\n",
       "      <td>3</td>\n",
       "      <td>Braund, Mr. Owen Harris</td>\n",
       "      <td>male</td>\n",
       "      <td>22.0</td>\n",
       "      <td>1</td>\n",
       "      <td>0</td>\n",
       "      <td>A/5 21171</td>\n",
       "      <td>7.2500</td>\n",
       "      <td>NaN</td>\n",
       "      <td>S</td>\n",
       "    </tr>\n",
       "    <tr>\n",
       "      <th>1</th>\n",
       "      <td>2</td>\n",
       "      <td>1</td>\n",
       "      <td>1</td>\n",
       "      <td>Cumings, Mrs. John Bradley (Florence Briggs Th...</td>\n",
       "      <td>female</td>\n",
       "      <td>38.0</td>\n",
       "      <td>1</td>\n",
       "      <td>0</td>\n",
       "      <td>PC 17599</td>\n",
       "      <td>71.2833</td>\n",
       "      <td>C85</td>\n",
       "      <td>C</td>\n",
       "    </tr>\n",
       "    <tr>\n",
       "      <th>2</th>\n",
       "      <td>3</td>\n",
       "      <td>1</td>\n",
       "      <td>3</td>\n",
       "      <td>Heikkinen, Miss. Laina</td>\n",
       "      <td>female</td>\n",
       "      <td>26.0</td>\n",
       "      <td>0</td>\n",
       "      <td>0</td>\n",
       "      <td>STON/O2. 3101282</td>\n",
       "      <td>7.9250</td>\n",
       "      <td>NaN</td>\n",
       "      <td>S</td>\n",
       "    </tr>\n",
       "    <tr>\n",
       "      <th>3</th>\n",
       "      <td>4</td>\n",
       "      <td>1</td>\n",
       "      <td>1</td>\n",
       "      <td>Futrelle, Mrs. Jacques Heath (Lily May Peel)</td>\n",
       "      <td>female</td>\n",
       "      <td>35.0</td>\n",
       "      <td>1</td>\n",
       "      <td>0</td>\n",
       "      <td>113803</td>\n",
       "      <td>53.1000</td>\n",
       "      <td>C123</td>\n",
       "      <td>S</td>\n",
       "    </tr>\n",
       "    <tr>\n",
       "      <th>4</th>\n",
       "      <td>5</td>\n",
       "      <td>0</td>\n",
       "      <td>3</td>\n",
       "      <td>Allen, Mr. William Henry</td>\n",
       "      <td>male</td>\n",
       "      <td>35.0</td>\n",
       "      <td>0</td>\n",
       "      <td>0</td>\n",
       "      <td>373450</td>\n",
       "      <td>8.0500</td>\n",
       "      <td>NaN</td>\n",
       "      <td>S</td>\n",
       "    </tr>\n",
       "    <tr>\n",
       "      <th>...</th>\n",
       "      <td>...</td>\n",
       "      <td>...</td>\n",
       "      <td>...</td>\n",
       "      <td>...</td>\n",
       "      <td>...</td>\n",
       "      <td>...</td>\n",
       "      <td>...</td>\n",
       "      <td>...</td>\n",
       "      <td>...</td>\n",
       "      <td>...</td>\n",
       "      <td>...</td>\n",
       "      <td>...</td>\n",
       "    </tr>\n",
       "    <tr>\n",
       "      <th>886</th>\n",
       "      <td>887</td>\n",
       "      <td>0</td>\n",
       "      <td>2</td>\n",
       "      <td>Montvila, Rev. Juozas</td>\n",
       "      <td>male</td>\n",
       "      <td>27.0</td>\n",
       "      <td>0</td>\n",
       "      <td>0</td>\n",
       "      <td>211536</td>\n",
       "      <td>13.0000</td>\n",
       "      <td>NaN</td>\n",
       "      <td>S</td>\n",
       "    </tr>\n",
       "    <tr>\n",
       "      <th>887</th>\n",
       "      <td>888</td>\n",
       "      <td>1</td>\n",
       "      <td>1</td>\n",
       "      <td>Graham, Miss. Margaret Edith</td>\n",
       "      <td>female</td>\n",
       "      <td>19.0</td>\n",
       "      <td>0</td>\n",
       "      <td>0</td>\n",
       "      <td>112053</td>\n",
       "      <td>30.0000</td>\n",
       "      <td>B42</td>\n",
       "      <td>S</td>\n",
       "    </tr>\n",
       "    <tr>\n",
       "      <th>888</th>\n",
       "      <td>889</td>\n",
       "      <td>0</td>\n",
       "      <td>3</td>\n",
       "      <td>Johnston, Miss. Catherine Helen \"Carrie\"</td>\n",
       "      <td>female</td>\n",
       "      <td>NaN</td>\n",
       "      <td>1</td>\n",
       "      <td>2</td>\n",
       "      <td>W./C. 6607</td>\n",
       "      <td>23.4500</td>\n",
       "      <td>NaN</td>\n",
       "      <td>S</td>\n",
       "    </tr>\n",
       "    <tr>\n",
       "      <th>889</th>\n",
       "      <td>890</td>\n",
       "      <td>1</td>\n",
       "      <td>1</td>\n",
       "      <td>Behr, Mr. Karl Howell</td>\n",
       "      <td>male</td>\n",
       "      <td>26.0</td>\n",
       "      <td>0</td>\n",
       "      <td>0</td>\n",
       "      <td>111369</td>\n",
       "      <td>30.0000</td>\n",
       "      <td>C148</td>\n",
       "      <td>C</td>\n",
       "    </tr>\n",
       "    <tr>\n",
       "      <th>890</th>\n",
       "      <td>891</td>\n",
       "      <td>0</td>\n",
       "      <td>3</td>\n",
       "      <td>Dooley, Mr. Patrick</td>\n",
       "      <td>male</td>\n",
       "      <td>32.0</td>\n",
       "      <td>0</td>\n",
       "      <td>0</td>\n",
       "      <td>370376</td>\n",
       "      <td>7.7500</td>\n",
       "      <td>NaN</td>\n",
       "      <td>Q</td>\n",
       "    </tr>\n",
       "  </tbody>\n",
       "</table>\n",
       "<p>891 rows × 12 columns</p>\n",
       "</div>"
      ],
      "text/plain": [
       "     PassengerId  Survived  Pclass  \\\n",
       "0              1         0       3   \n",
       "1              2         1       1   \n",
       "2              3         1       3   \n",
       "3              4         1       1   \n",
       "4              5         0       3   \n",
       "..           ...       ...     ...   \n",
       "886          887         0       2   \n",
       "887          888         1       1   \n",
       "888          889         0       3   \n",
       "889          890         1       1   \n",
       "890          891         0       3   \n",
       "\n",
       "                                                  Name     Sex   Age  Sib/Sp  \\\n",
       "0                              Braund, Mr. Owen Harris    male  22.0       1   \n",
       "1    Cumings, Mrs. John Bradley (Florence Briggs Th...  female  38.0       1   \n",
       "2                               Heikkinen, Miss. Laina  female  26.0       0   \n",
       "3         Futrelle, Mrs. Jacques Heath (Lily May Peel)  female  35.0       1   \n",
       "4                             Allen, Mr. William Henry    male  35.0       0   \n",
       "..                                                 ...     ...   ...     ...   \n",
       "886                              Montvila, Rev. Juozas    male  27.0       0   \n",
       "887                       Graham, Miss. Margaret Edith  female  19.0       0   \n",
       "888           Johnston, Miss. Catherine Helen \"Carrie\"  female   NaN       1   \n",
       "889                              Behr, Mr. Karl Howell    male  26.0       0   \n",
       "890                                Dooley, Mr. Patrick    male  32.0       0   \n",
       "\n",
       "     Par/Ch            Ticket     Fare Cabin Embarked  \n",
       "0         0         A/5 21171   7.2500   NaN        S  \n",
       "1         0          PC 17599  71.2833   C85        C  \n",
       "2         0  STON/O2. 3101282   7.9250   NaN        S  \n",
       "3         0            113803  53.1000  C123        S  \n",
       "4         0            373450   8.0500   NaN        S  \n",
       "..      ...               ...      ...   ...      ...  \n",
       "886       0            211536  13.0000   NaN        S  \n",
       "887       0            112053  30.0000   B42        S  \n",
       "888       2        W./C. 6607  23.4500   NaN        S  \n",
       "889       0            111369  30.0000  C148        C  \n",
       "890       0            370376   7.7500   NaN        Q  \n",
       "\n",
       "[891 rows x 12 columns]"
      ]
     },
     "execution_count": 3,
     "metadata": {},
     "output_type": "execute_result"
    }
   ],
   "source": [
    "ds"
   ]
  },
  {
   "cell_type": "markdown",
   "id": "af53fcdd",
   "metadata": {},
   "source": [
    "# Calculate the percentage of male and female survivors."
   ]
  },
  {
   "cell_type": "code",
   "execution_count": 4,
   "id": "ca27df56",
   "metadata": {},
   "outputs": [],
   "source": [
    "ds1 = ds[ds['Sex']=='female']['Survived'].value_counts()"
   ]
  },
  {
   "cell_type": "code",
   "execution_count": 5,
   "id": "482648fa",
   "metadata": {},
   "outputs": [],
   "source": [
    "d1 = (ds1[1])/(ds1.sum())*100\n",
    "#Percentage"
   ]
  },
  {
   "cell_type": "code",
   "execution_count": 6,
   "id": "d9974440",
   "metadata": {},
   "outputs": [],
   "source": [
    "ds1 = ds[ds['Sex']=='male']['Survived'].value_counts()"
   ]
  },
  {
   "cell_type": "code",
   "execution_count": 7,
   "id": "81f95dcd",
   "metadata": {},
   "outputs": [],
   "source": [
    "d2 = (ds1[1])/(ds1.sum())*100\n",
    "#Percentage"
   ]
  },
  {
   "cell_type": "code",
   "execution_count": 8,
   "id": "107a28f0",
   "metadata": {},
   "outputs": [
    {
     "data": {
      "text/html": [
       "<div>\n",
       "<style scoped>\n",
       "    .dataframe tbody tr th:only-of-type {\n",
       "        vertical-align: middle;\n",
       "    }\n",
       "\n",
       "    .dataframe tbody tr th {\n",
       "        vertical-align: top;\n",
       "    }\n",
       "\n",
       "    .dataframe thead th {\n",
       "        text-align: right;\n",
       "    }\n",
       "</style>\n",
       "<table border=\"1\" class=\"dataframe\">\n",
       "  <thead>\n",
       "    <tr style=\"text-align: right;\">\n",
       "      <th></th>\n",
       "      <th>Survival %</th>\n",
       "    </tr>\n",
       "  </thead>\n",
       "  <tbody>\n",
       "    <tr>\n",
       "      <th>Female</th>\n",
       "      <td>74.203822</td>\n",
       "    </tr>\n",
       "    <tr>\n",
       "      <th>Male</th>\n",
       "      <td>18.890815</td>\n",
       "    </tr>\n",
       "  </tbody>\n",
       "</table>\n",
       "</div>"
      ],
      "text/plain": [
       "        Survival %\n",
       "Female   74.203822\n",
       "Male     18.890815"
      ]
     },
     "execution_count": 8,
     "metadata": {},
     "output_type": "execute_result"
    }
   ],
   "source": [
    "pd.DataFrame([d1,d2],index = ['Female','Male'],columns=['Survival %'])"
   ]
  },
  {
   "cell_type": "markdown",
   "id": "1c3e63dd",
   "metadata": {},
   "source": [
    "# Rate of survival of people in the age range 0-25,26-50,51-75,>75."
   ]
  },
  {
   "cell_type": "code",
   "execution_count": 9,
   "id": "c601b85f",
   "metadata": {},
   "outputs": [],
   "source": [
    "ds6 = ds[(ds['Age']>0) & (ds['Age']<=25)]['Survived'].value_counts()"
   ]
  },
  {
   "cell_type": "code",
   "execution_count": 10,
   "id": "e83668d7",
   "metadata": {},
   "outputs": [],
   "source": [
    "d1 = (ds6[1])/(ds6.sum())*100\n",
    "#Percentage"
   ]
  },
  {
   "cell_type": "code",
   "execution_count": 11,
   "id": "e5d25d30",
   "metadata": {},
   "outputs": [],
   "source": [
    "ds6 = ds[(ds['Age']>25) & (ds['Age']<=50)]['Survived'].value_counts()"
   ]
  },
  {
   "cell_type": "code",
   "execution_count": 12,
   "id": "c2a4f758",
   "metadata": {},
   "outputs": [],
   "source": [
    "d2 = (ds6[1])/(ds6.sum())*100\n",
    "#Percentage"
   ]
  },
  {
   "cell_type": "code",
   "execution_count": 13,
   "id": "c590e316",
   "metadata": {},
   "outputs": [],
   "source": [
    "ds6 = ds[(ds['Age']>50) & (ds['Age']<=75)]['Survived'].value_counts()"
   ]
  },
  {
   "cell_type": "code",
   "execution_count": 14,
   "id": "a3d4df91",
   "metadata": {},
   "outputs": [],
   "source": [
    "d3 = (ds6[1])/(ds6.sum())*100\n",
    "#Percentage"
   ]
  },
  {
   "cell_type": "code",
   "execution_count": 15,
   "id": "a379366c",
   "metadata": {},
   "outputs": [],
   "source": [
    "ds6 = ds[(ds['Age']>75)]['Survived'].value_counts()"
   ]
  },
  {
   "cell_type": "code",
   "execution_count": 16,
   "id": "ccfa16d4",
   "metadata": {},
   "outputs": [],
   "source": [
    "d4 = (ds6[1])/(ds6.sum())*100\n",
    "#Percentage"
   ]
  },
  {
   "cell_type": "code",
   "execution_count": 17,
   "id": "c7aaf443",
   "metadata": {},
   "outputs": [
    {
     "data": {
      "text/html": [
       "<div>\n",
       "<style scoped>\n",
       "    .dataframe tbody tr th:only-of-type {\n",
       "        vertical-align: middle;\n",
       "    }\n",
       "\n",
       "    .dataframe tbody tr th {\n",
       "        vertical-align: top;\n",
       "    }\n",
       "\n",
       "    .dataframe thead th {\n",
       "        text-align: right;\n",
       "    }\n",
       "</style>\n",
       "<table border=\"1\" class=\"dataframe\">\n",
       "  <thead>\n",
       "    <tr style=\"text-align: right;\">\n",
       "      <th></th>\n",
       "      <th>Survival %</th>\n",
       "    </tr>\n",
       "  </thead>\n",
       "  <tbody>\n",
       "    <tr>\n",
       "      <th>0-25</th>\n",
       "      <td>41.196013</td>\n",
       "    </tr>\n",
       "    <tr>\n",
       "      <th>26-50</th>\n",
       "      <td>41.260745</td>\n",
       "    </tr>\n",
       "    <tr>\n",
       "      <th>51-75</th>\n",
       "      <td>33.333333</td>\n",
       "    </tr>\n",
       "    <tr>\n",
       "      <th>Above 75</th>\n",
       "      <td>100.000000</td>\n",
       "    </tr>\n",
       "  </tbody>\n",
       "</table>\n",
       "</div>"
      ],
      "text/plain": [
       "          Survival %\n",
       "0-25       41.196013\n",
       "26-50      41.260745\n",
       "51-75      33.333333\n",
       "Above 75  100.000000"
      ]
     },
     "execution_count": 17,
     "metadata": {},
     "output_type": "execute_result"
    }
   ],
   "source": [
    "pd.DataFrame([d1,d2,d3,d4],index = ['0-25','26-50','51-75','Above 75'],columns=['Survival %'])"
   ]
  },
  {
   "cell_type": "markdown",
   "id": "717ba1ff",
   "metadata": {},
   "source": [
    "# Rate of Survival based on Passenger Class"
   ]
  },
  {
   "cell_type": "code",
   "execution_count": 18,
   "id": "211cbb4c",
   "metadata": {},
   "outputs": [],
   "source": [
    "ds6 = ds[(ds['Pclass']==1)]['Survived'].value_counts()"
   ]
  },
  {
   "cell_type": "code",
   "execution_count": 19,
   "id": "a40c64f4",
   "metadata": {},
   "outputs": [],
   "source": [
    "d1 = (ds6[1])/(ds6.sum())*100\n",
    "#Percentage"
   ]
  },
  {
   "cell_type": "code",
   "execution_count": 20,
   "id": "0e02f78e",
   "metadata": {},
   "outputs": [],
   "source": [
    "ds6 = ds[(ds['Pclass']==2)]['Survived'].value_counts()"
   ]
  },
  {
   "cell_type": "code",
   "execution_count": 21,
   "id": "172c52bb",
   "metadata": {},
   "outputs": [],
   "source": [
    "d2 = (ds6[1])/(ds6.sum())*100\n",
    "#Percentage"
   ]
  },
  {
   "cell_type": "code",
   "execution_count": 22,
   "id": "e2ecec51",
   "metadata": {},
   "outputs": [],
   "source": [
    "ds6 = ds[(ds['Pclass']==3)]['Survived'].value_counts()"
   ]
  },
  {
   "cell_type": "code",
   "execution_count": 23,
   "id": "a2b1fa7a",
   "metadata": {},
   "outputs": [],
   "source": [
    "d3 = (ds6[1])/(ds6.sum())*100\n",
    "#Percentage"
   ]
  },
  {
   "cell_type": "code",
   "execution_count": 24,
   "id": "3d04d638",
   "metadata": {},
   "outputs": [
    {
     "data": {
      "text/html": [
       "<div>\n",
       "<style scoped>\n",
       "    .dataframe tbody tr th:only-of-type {\n",
       "        vertical-align: middle;\n",
       "    }\n",
       "\n",
       "    .dataframe tbody tr th {\n",
       "        vertical-align: top;\n",
       "    }\n",
       "\n",
       "    .dataframe thead th {\n",
       "        text-align: right;\n",
       "    }\n",
       "</style>\n",
       "<table border=\"1\" class=\"dataframe\">\n",
       "  <thead>\n",
       "    <tr style=\"text-align: right;\">\n",
       "      <th></th>\n",
       "      <th>Survival %</th>\n",
       "    </tr>\n",
       "  </thead>\n",
       "  <tbody>\n",
       "    <tr>\n",
       "      <th>PClass: 1</th>\n",
       "      <td>62.962963</td>\n",
       "    </tr>\n",
       "    <tr>\n",
       "      <th>PClass: 2</th>\n",
       "      <td>47.282609</td>\n",
       "    </tr>\n",
       "    <tr>\n",
       "      <th>PClass: 3</th>\n",
       "      <td>24.236253</td>\n",
       "    </tr>\n",
       "  </tbody>\n",
       "</table>\n",
       "</div>"
      ],
      "text/plain": [
       "           Survival %\n",
       "PClass: 1   62.962963\n",
       "PClass: 2   47.282609\n",
       "PClass: 3   24.236253"
      ]
     },
     "execution_count": 24,
     "metadata": {},
     "output_type": "execute_result"
    }
   ],
   "source": [
    "pd.DataFrame([d1,d2,d3],index = ['PClass: 1','PClass: 2','PClass: 3'],columns=['Survival %'])"
   ]
  },
  {
   "cell_type": "markdown",
   "id": "86983d89",
   "metadata": {},
   "source": [
    "# Rate of Survival based on Embarking Location where C = Cherbourg, Q = Queenstown, S = Southampton"
   ]
  },
  {
   "cell_type": "code",
   "execution_count": 25,
   "id": "b6a2f10c",
   "metadata": {},
   "outputs": [],
   "source": [
    "ds6 = ds[(ds['Embarked']=='C')]['Survived'].value_counts()"
   ]
  },
  {
   "cell_type": "code",
   "execution_count": 26,
   "id": "d5b15ebe",
   "metadata": {},
   "outputs": [],
   "source": [
    "d1 = (ds6[1])/(ds6.sum())*100\n",
    "#Percentage"
   ]
  },
  {
   "cell_type": "code",
   "execution_count": 27,
   "id": "2a1aa221",
   "metadata": {},
   "outputs": [],
   "source": [
    "ds6 = ds[(ds['Embarked']=='Q')]['Survived'].value_counts()"
   ]
  },
  {
   "cell_type": "code",
   "execution_count": 28,
   "id": "69c4fec6",
   "metadata": {},
   "outputs": [],
   "source": [
    "d2 = (ds6[1])/(ds6.sum())*100\n",
    "#Percentage"
   ]
  },
  {
   "cell_type": "code",
   "execution_count": 29,
   "id": "582df17f",
   "metadata": {},
   "outputs": [],
   "source": [
    "ds6 = ds[(ds['Embarked']=='S')]['Survived'].value_counts()"
   ]
  },
  {
   "cell_type": "code",
   "execution_count": 30,
   "id": "33386dbe",
   "metadata": {},
   "outputs": [],
   "source": [
    "d3 = (ds6[1])/(ds6.sum())*100\n",
    "#Percentage"
   ]
  },
  {
   "cell_type": "code",
   "execution_count": 31,
   "id": "aed4bade",
   "metadata": {},
   "outputs": [
    {
     "data": {
      "text/html": [
       "<div>\n",
       "<style scoped>\n",
       "    .dataframe tbody tr th:only-of-type {\n",
       "        vertical-align: middle;\n",
       "    }\n",
       "\n",
       "    .dataframe tbody tr th {\n",
       "        vertical-align: top;\n",
       "    }\n",
       "\n",
       "    .dataframe thead th {\n",
       "        text-align: right;\n",
       "    }\n",
       "</style>\n",
       "<table border=\"1\" class=\"dataframe\">\n",
       "  <thead>\n",
       "    <tr style=\"text-align: right;\">\n",
       "      <th></th>\n",
       "      <th>Survival %</th>\n",
       "    </tr>\n",
       "  </thead>\n",
       "  <tbody>\n",
       "    <tr>\n",
       "      <th>Embarked from Cherbourg</th>\n",
       "      <td>55.357143</td>\n",
       "    </tr>\n",
       "    <tr>\n",
       "      <th>Embarked from Queenstown</th>\n",
       "      <td>38.961039</td>\n",
       "    </tr>\n",
       "    <tr>\n",
       "      <th>Embarked from Southampton</th>\n",
       "      <td>33.695652</td>\n",
       "    </tr>\n",
       "  </tbody>\n",
       "</table>\n",
       "</div>"
      ],
      "text/plain": [
       "                           Survival %\n",
       "Embarked from Cherbourg     55.357143\n",
       "Embarked from Queenstown    38.961039\n",
       "Embarked from Southampton   33.695652"
      ]
     },
     "execution_count": 31,
     "metadata": {},
     "output_type": "execute_result"
    }
   ],
   "source": [
    "pd.DataFrame([d1,d2,d3],index = ['Embarked from Cherbourg','Embarked from Queenstown','Embarked from Southampton'],columns=['Survival %'])"
   ]
  },
  {
   "cell_type": "markdown",
   "id": "10a5f88f",
   "metadata": {},
   "source": [
    "# Survival Rate of people who were travelling alone"
   ]
  },
  {
   "cell_type": "code",
   "execution_count": 32,
   "id": "9dba85a9",
   "metadata": {},
   "outputs": [],
   "source": [
    "ds1 = ds[(ds['Sib/Sp']==0) & (ds['Par/Ch']==0)]['Survived'].value_counts()"
   ]
  },
  {
   "cell_type": "code",
   "execution_count": 33,
   "id": "3747d4a6",
   "metadata": {},
   "outputs": [],
   "source": [
    "d1 = (ds1[1])/(ds1.sum())*100\n",
    "#Percentage"
   ]
  },
  {
   "cell_type": "code",
   "execution_count": 34,
   "id": "b5d7dfcb",
   "metadata": {},
   "outputs": [],
   "source": [
    "d2 = 100-d1"
   ]
  },
  {
   "cell_type": "code",
   "execution_count": 35,
   "id": "c952a08a",
   "metadata": {},
   "outputs": [
    {
     "data": {
      "text/html": [
       "<div>\n",
       "<style scoped>\n",
       "    .dataframe tbody tr th:only-of-type {\n",
       "        vertical-align: middle;\n",
       "    }\n",
       "\n",
       "    .dataframe tbody tr th {\n",
       "        vertical-align: top;\n",
       "    }\n",
       "\n",
       "    .dataframe thead th {\n",
       "        text-align: right;\n",
       "    }\n",
       "</style>\n",
       "<table border=\"1\" class=\"dataframe\">\n",
       "  <thead>\n",
       "    <tr style=\"text-align: right;\">\n",
       "      <th></th>\n",
       "      <th>%</th>\n",
       "    </tr>\n",
       "  </thead>\n",
       "  <tbody>\n",
       "    <tr>\n",
       "      <th>Survived</th>\n",
       "      <td>30.353818</td>\n",
       "    </tr>\n",
       "    <tr>\n",
       "      <th>Did not Survive</th>\n",
       "      <td>69.646182</td>\n",
       "    </tr>\n",
       "  </tbody>\n",
       "</table>\n",
       "</div>"
      ],
      "text/plain": [
       "                         %\n",
       "Survived         30.353818\n",
       "Did not Survive  69.646182"
      ]
     },
     "execution_count": 35,
     "metadata": {},
     "output_type": "execute_result"
    }
   ],
   "source": [
    "pd.DataFrame([d1,d2],index = ['Survived','Did not Survive'],columns=['%'])"
   ]
  },
  {
   "cell_type": "markdown",
   "id": "455288da",
   "metadata": {},
   "source": [
    "# Survival Rate of people who were travelling alone vs who weren't travelling alone"
   ]
  },
  {
   "cell_type": "code",
   "execution_count": 36,
   "id": "f5b6de96",
   "metadata": {},
   "outputs": [],
   "source": [
    "ds1 = ds[(ds['Sib/Sp']>0) | (ds['Par/Ch']>0)]['Survived'].value_counts()"
   ]
  },
  {
   "cell_type": "code",
   "execution_count": 37,
   "id": "bdb14430",
   "metadata": {},
   "outputs": [],
   "source": [
    "d2 = (ds1[1])/(ds1.sum())*100\n",
    "#Percentage"
   ]
  },
  {
   "cell_type": "code",
   "execution_count": 38,
   "id": "32d94138",
   "metadata": {},
   "outputs": [
    {
     "data": {
      "text/html": [
       "<div>\n",
       "<style scoped>\n",
       "    .dataframe tbody tr th:only-of-type {\n",
       "        vertical-align: middle;\n",
       "    }\n",
       "\n",
       "    .dataframe tbody tr th {\n",
       "        vertical-align: top;\n",
       "    }\n",
       "\n",
       "    .dataframe thead th {\n",
       "        text-align: right;\n",
       "    }\n",
       "</style>\n",
       "<table border=\"1\" class=\"dataframe\">\n",
       "  <thead>\n",
       "    <tr style=\"text-align: right;\">\n",
       "      <th></th>\n",
       "      <th>Survival %</th>\n",
       "    </tr>\n",
       "  </thead>\n",
       "  <tbody>\n",
       "    <tr>\n",
       "      <th>Travelling Alone</th>\n",
       "      <td>30.353818</td>\n",
       "    </tr>\n",
       "    <tr>\n",
       "      <th>Travelling with someone</th>\n",
       "      <td>50.564972</td>\n",
       "    </tr>\n",
       "  </tbody>\n",
       "</table>\n",
       "</div>"
      ],
      "text/plain": [
       "                         Survival %\n",
       "Travelling Alone          30.353818\n",
       "Travelling with someone   50.564972"
      ]
     },
     "execution_count": 38,
     "metadata": {},
     "output_type": "execute_result"
    }
   ],
   "source": [
    "pd.DataFrame([d1,d2],index = ['Travelling Alone','Travelling with someone'],columns=['Survival %'])"
   ]
  },
  {
   "cell_type": "markdown",
   "id": "db95365e",
   "metadata": {},
   "source": [
    "# Rate of survival of parents travelling with their child and vice versa."
   ]
  },
  {
   "cell_type": "code",
   "execution_count": 39,
   "id": "281acf28",
   "metadata": {},
   "outputs": [],
   "source": [
    "ds3 = ds[ds['Par/Ch']>0]['Survived'].value_counts()"
   ]
  },
  {
   "cell_type": "code",
   "execution_count": 40,
   "id": "a328748b",
   "metadata": {},
   "outputs": [
    {
     "data": {
      "text/plain": [
       "51.173708920187785"
      ]
     },
     "execution_count": 40,
     "metadata": {},
     "output_type": "execute_result"
    }
   ],
   "source": [
    "(ds3[1])/(ds3.sum())*100\n",
    "#Percentage"
   ]
  },
  {
   "cell_type": "markdown",
   "id": "5457de81",
   "metadata": {},
   "source": [
    "# Rate of Survival of people travelling with their spouse or sibling"
   ]
  },
  {
   "cell_type": "code",
   "execution_count": 41,
   "id": "9335a555",
   "metadata": {},
   "outputs": [],
   "source": [
    "ds3 = ds[ds['Sib/Sp']>0]['Survived'].value_counts()"
   ]
  },
  {
   "cell_type": "code",
   "execution_count": 42,
   "id": "a59a54c1",
   "metadata": {},
   "outputs": [
    {
     "data": {
      "text/plain": [
       "46.64310954063604"
      ]
     },
     "execution_count": 42,
     "metadata": {},
     "output_type": "execute_result"
    }
   ],
   "source": [
    "(ds3[1])/(ds3.sum())*100\n",
    "#Percentage"
   ]
  },
  {
   "cell_type": "markdown",
   "id": "941e586b",
   "metadata": {},
   "source": [
    "# Rate of Survival of boys compared to girls"
   ]
  },
  {
   "cell_type": "code",
   "execution_count": 43,
   "id": "b0451bc0",
   "metadata": {},
   "outputs": [],
   "source": [
    "ds7 = ds[(ds['Sex']=='male') & (ds['Age']<=18)]['Survived'].value_counts()"
   ]
  },
  {
   "cell_type": "code",
   "execution_count": 44,
   "id": "7aeb307a",
   "metadata": {},
   "outputs": [],
   "source": [
    "d1 = (ds7[1])/(ds7.sum())*100\n",
    "#Percentage"
   ]
  },
  {
   "cell_type": "code",
   "execution_count": 45,
   "id": "3888a2ca",
   "metadata": {},
   "outputs": [],
   "source": [
    "ds7 = ds[(ds['Sex']=='female') & (ds['Age']<=18)]['Survived'].value_counts()"
   ]
  },
  {
   "cell_type": "code",
   "execution_count": 46,
   "id": "ea08f19f",
   "metadata": {},
   "outputs": [],
   "source": [
    "d2 = (ds7[1])/(ds7.sum())*100\n",
    "#Percentage"
   ]
  },
  {
   "cell_type": "code",
   "execution_count": 47,
   "id": "620c57d4",
   "metadata": {},
   "outputs": [
    {
     "data": {
      "text/html": [
       "<div>\n",
       "<style scoped>\n",
       "    .dataframe tbody tr th:only-of-type {\n",
       "        vertical-align: middle;\n",
       "    }\n",
       "\n",
       "    .dataframe tbody tr th {\n",
       "        vertical-align: top;\n",
       "    }\n",
       "\n",
       "    .dataframe thead th {\n",
       "        text-align: right;\n",
       "    }\n",
       "</style>\n",
       "<table border=\"1\" class=\"dataframe\">\n",
       "  <thead>\n",
       "    <tr style=\"text-align: right;\">\n",
       "      <th></th>\n",
       "      <th>Survival %</th>\n",
       "    </tr>\n",
       "  </thead>\n",
       "  <tbody>\n",
       "    <tr>\n",
       "      <th>Boys</th>\n",
       "      <td>33.802817</td>\n",
       "    </tr>\n",
       "    <tr>\n",
       "      <th>Girls</th>\n",
       "      <td>67.647059</td>\n",
       "    </tr>\n",
       "  </tbody>\n",
       "</table>\n",
       "</div>"
      ],
      "text/plain": [
       "       Survival %\n",
       "Boys    33.802817\n",
       "Girls   67.647059"
      ]
     },
     "execution_count": 47,
     "metadata": {},
     "output_type": "execute_result"
    }
   ],
   "source": [
    "pd.DataFrame([d1,d2],index = ['Boys','Girls'],columns=['Survival %'])"
   ]
  },
  {
   "cell_type": "markdown",
   "id": "5737da88",
   "metadata": {},
   "source": [
    "# Rate of Survival of men compared to women"
   ]
  },
  {
   "cell_type": "code",
   "execution_count": 48,
   "id": "a269d288",
   "metadata": {},
   "outputs": [],
   "source": [
    "ds7 = ds[(ds['Sex']=='male') & (ds['Age']>18)]['Survived'].value_counts()"
   ]
  },
  {
   "cell_type": "code",
   "execution_count": 49,
   "id": "1bb69ff6",
   "metadata": {},
   "outputs": [],
   "source": [
    "d1 = (ds7[1])/(ds7.sum())*100\n",
    "#Percentage"
   ]
  },
  {
   "cell_type": "code",
   "execution_count": 50,
   "id": "fe4d13fc",
   "metadata": {},
   "outputs": [],
   "source": [
    "ds7 = ds[(ds['Sex']=='female') & (ds['Age']>18)]['Survived'].value_counts()"
   ]
  },
  {
   "cell_type": "code",
   "execution_count": 51,
   "id": "bbe9be86",
   "metadata": {},
   "outputs": [],
   "source": [
    "d2 = (ds7[1])/(ds7.sum())*100\n",
    "#Percentage"
   ]
  },
  {
   "cell_type": "code",
   "execution_count": 52,
   "id": "be875468",
   "metadata": {},
   "outputs": [
    {
     "data": {
      "text/html": [
       "<div>\n",
       "<style scoped>\n",
       "    .dataframe tbody tr th:only-of-type {\n",
       "        vertical-align: middle;\n",
       "    }\n",
       "\n",
       "    .dataframe tbody tr th {\n",
       "        vertical-align: top;\n",
       "    }\n",
       "\n",
       "    .dataframe thead th {\n",
       "        text-align: right;\n",
       "    }\n",
       "</style>\n",
       "<table border=\"1\" class=\"dataframe\">\n",
       "  <thead>\n",
       "    <tr style=\"text-align: right;\">\n",
       "      <th></th>\n",
       "      <th>Survival %</th>\n",
       "    </tr>\n",
       "  </thead>\n",
       "  <tbody>\n",
       "    <tr>\n",
       "      <th>Men</th>\n",
       "      <td>18.062827</td>\n",
       "    </tr>\n",
       "    <tr>\n",
       "      <th>Women</th>\n",
       "      <td>78.238342</td>\n",
       "    </tr>\n",
       "  </tbody>\n",
       "</table>\n",
       "</div>"
      ],
      "text/plain": [
       "       Survival %\n",
       "Men     18.062827\n",
       "Women   78.238342"
      ]
     },
     "execution_count": 52,
     "metadata": {},
     "output_type": "execute_result"
    }
   ],
   "source": [
    "pd.DataFrame([d1,d2],index = ['Men','Women'],columns=['Survival %'])"
   ]
  },
  {
   "cell_type": "markdown",
   "id": "e4ddcb79",
   "metadata": {},
   "source": [
    "# Percentage of Survivors"
   ]
  },
  {
   "cell_type": "code",
   "execution_count": 53,
   "id": "39799a3c",
   "metadata": {},
   "outputs": [],
   "source": [
    "ds1 = ds['Survived'].value_counts()"
   ]
  },
  {
   "cell_type": "code",
   "execution_count": 54,
   "id": "b0ad39ad",
   "metadata": {},
   "outputs": [
    {
     "data": {
      "text/plain": [
       "38.38383838383838"
      ]
     },
     "execution_count": 54,
     "metadata": {},
     "output_type": "execute_result"
    }
   ],
   "source": [
    "(ds1[1])/(ds1.sum())*100\n",
    "#Percentage"
   ]
  },
  {
   "cell_type": "code",
   "execution_count": null,
   "id": "bde47c1a",
   "metadata": {},
   "outputs": [],
   "source": []
  }
 ],
 "metadata": {
  "kernelspec": {
   "display_name": "Python 3",
   "language": "python",
   "name": "python3"
  },
  "language_info": {
   "codemirror_mode": {
    "name": "ipython",
    "version": 3
   },
   "file_extension": ".py",
   "mimetype": "text/x-python",
   "name": "python",
   "nbconvert_exporter": "python",
   "pygments_lexer": "ipython3",
   "version": "3.8.8"
  }
 },
 "nbformat": 4,
 "nbformat_minor": 5
}
