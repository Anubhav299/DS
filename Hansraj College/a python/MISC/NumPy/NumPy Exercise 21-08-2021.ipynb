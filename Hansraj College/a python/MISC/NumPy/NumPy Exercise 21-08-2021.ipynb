{
 "cells": [
  {
   "cell_type": "code",
   "execution_count": 1,
   "id": "cb44794d",
   "metadata": {},
   "outputs": [],
   "source": [
    "import numpy as np"
   ]
  },
  {
   "cell_type": "markdown",
   "id": "377919f1",
   "metadata": {},
   "source": [
    "1. Create an array of 5 ones"
   ]
  },
  {
   "cell_type": "code",
   "execution_count": 3,
   "id": "16c967b6",
   "metadata": {},
   "outputs": [],
   "source": [
    "arr1 = np.ones(5)"
   ]
  },
  {
   "cell_type": "code",
   "execution_count": 4,
   "id": "3412e915",
   "metadata": {},
   "outputs": [
    {
     "data": {
      "text/plain": [
       "array([1., 1., 1., 1., 1.])"
      ]
     },
     "execution_count": 4,
     "metadata": {},
     "output_type": "execute_result"
    }
   ],
   "source": [
    "arr1"
   ]
  },
  {
   "cell_type": "markdown",
   "id": "f53099f5",
   "metadata": {},
   "source": [
    "2. Create an array of 5 fives"
   ]
  },
  {
   "cell_type": "code",
   "execution_count": 8,
   "id": "d554389c",
   "metadata": {},
   "outputs": [],
   "source": [
    "arr2 = 5*np.ones(5)"
   ]
  },
  {
   "cell_type": "code",
   "execution_count": 9,
   "id": "71295476",
   "metadata": {},
   "outputs": [
    {
     "data": {
      "text/plain": [
       "array([5., 5., 5., 5., 5.])"
      ]
     },
     "execution_count": 9,
     "metadata": {},
     "output_type": "execute_result"
    }
   ],
   "source": [
    "arr2"
   ]
  },
  {
   "cell_type": "markdown",
   "id": "47a7cb4e",
   "metadata": {},
   "source": [
    "3. Create a 1-D array of 100 linearly spaced values between 1 and 10. Covert into 10 by 10 2-D array."
   ]
  },
  {
   "cell_type": "code",
   "execution_count": 11,
   "id": "6e7b3953",
   "metadata": {},
   "outputs": [],
   "source": [
    "arr3 = np.linspace(1,10,100)"
   ]
  },
  {
   "cell_type": "code",
   "execution_count": 12,
   "id": "b557e6da",
   "metadata": {},
   "outputs": [
    {
     "data": {
      "text/plain": [
       "array([ 1.        ,  1.09090909,  1.18181818,  1.27272727,  1.36363636,\n",
       "        1.45454545,  1.54545455,  1.63636364,  1.72727273,  1.81818182,\n",
       "        1.90909091,  2.        ,  2.09090909,  2.18181818,  2.27272727,\n",
       "        2.36363636,  2.45454545,  2.54545455,  2.63636364,  2.72727273,\n",
       "        2.81818182,  2.90909091,  3.        ,  3.09090909,  3.18181818,\n",
       "        3.27272727,  3.36363636,  3.45454545,  3.54545455,  3.63636364,\n",
       "        3.72727273,  3.81818182,  3.90909091,  4.        ,  4.09090909,\n",
       "        4.18181818,  4.27272727,  4.36363636,  4.45454545,  4.54545455,\n",
       "        4.63636364,  4.72727273,  4.81818182,  4.90909091,  5.        ,\n",
       "        5.09090909,  5.18181818,  5.27272727,  5.36363636,  5.45454545,\n",
       "        5.54545455,  5.63636364,  5.72727273,  5.81818182,  5.90909091,\n",
       "        6.        ,  6.09090909,  6.18181818,  6.27272727,  6.36363636,\n",
       "        6.45454545,  6.54545455,  6.63636364,  6.72727273,  6.81818182,\n",
       "        6.90909091,  7.        ,  7.09090909,  7.18181818,  7.27272727,\n",
       "        7.36363636,  7.45454545,  7.54545455,  7.63636364,  7.72727273,\n",
       "        7.81818182,  7.90909091,  8.        ,  8.09090909,  8.18181818,\n",
       "        8.27272727,  8.36363636,  8.45454545,  8.54545455,  8.63636364,\n",
       "        8.72727273,  8.81818182,  8.90909091,  9.        ,  9.09090909,\n",
       "        9.18181818,  9.27272727,  9.36363636,  9.45454545,  9.54545455,\n",
       "        9.63636364,  9.72727273,  9.81818182,  9.90909091, 10.        ])"
      ]
     },
     "execution_count": 12,
     "metadata": {},
     "output_type": "execute_result"
    }
   ],
   "source": [
    "arr3"
   ]
  },
  {
   "cell_type": "code",
   "execution_count": 13,
   "id": "a76e8d66",
   "metadata": {},
   "outputs": [
    {
     "data": {
      "text/plain": [
       "array([[ 1.        ,  1.09090909,  1.18181818,  1.27272727,  1.36363636,\n",
       "         1.45454545,  1.54545455,  1.63636364,  1.72727273,  1.81818182],\n",
       "       [ 1.90909091,  2.        ,  2.09090909,  2.18181818,  2.27272727,\n",
       "         2.36363636,  2.45454545,  2.54545455,  2.63636364,  2.72727273],\n",
       "       [ 2.81818182,  2.90909091,  3.        ,  3.09090909,  3.18181818,\n",
       "         3.27272727,  3.36363636,  3.45454545,  3.54545455,  3.63636364],\n",
       "       [ 3.72727273,  3.81818182,  3.90909091,  4.        ,  4.09090909,\n",
       "         4.18181818,  4.27272727,  4.36363636,  4.45454545,  4.54545455],\n",
       "       [ 4.63636364,  4.72727273,  4.81818182,  4.90909091,  5.        ,\n",
       "         5.09090909,  5.18181818,  5.27272727,  5.36363636,  5.45454545],\n",
       "       [ 5.54545455,  5.63636364,  5.72727273,  5.81818182,  5.90909091,\n",
       "         6.        ,  6.09090909,  6.18181818,  6.27272727,  6.36363636],\n",
       "       [ 6.45454545,  6.54545455,  6.63636364,  6.72727273,  6.81818182,\n",
       "         6.90909091,  7.        ,  7.09090909,  7.18181818,  7.27272727],\n",
       "       [ 7.36363636,  7.45454545,  7.54545455,  7.63636364,  7.72727273,\n",
       "         7.81818182,  7.90909091,  8.        ,  8.09090909,  8.18181818],\n",
       "       [ 8.27272727,  8.36363636,  8.45454545,  8.54545455,  8.63636364,\n",
       "         8.72727273,  8.81818182,  8.90909091,  9.        ,  9.09090909],\n",
       "       [ 9.18181818,  9.27272727,  9.36363636,  9.45454545,  9.54545455,\n",
       "         9.63636364,  9.72727273,  9.81818182,  9.90909091, 10.        ]])"
      ]
     },
     "execution_count": 13,
     "metadata": {},
     "output_type": "execute_result"
    }
   ],
   "source": [
    "arr3.reshape(10,10)"
   ]
  },
  {
   "cell_type": "markdown",
   "id": "4686b2c9",
   "metadata": {},
   "source": [
    "4. Create an array of integers in sequence, from 1 to 10."
   ]
  },
  {
   "cell_type": "code",
   "execution_count": 14,
   "id": "ed50cba0",
   "metadata": {},
   "outputs": [],
   "source": [
    "arrseq = np.arange(1,11)"
   ]
  },
  {
   "cell_type": "code",
   "execution_count": 15,
   "id": "694409d3",
   "metadata": {},
   "outputs": [
    {
     "data": {
      "text/plain": [
       "array([ 1,  2,  3,  4,  5,  6,  7,  8,  9, 10])"
      ]
     },
     "execution_count": 15,
     "metadata": {},
     "output_type": "execute_result"
    }
   ],
   "source": [
    "arrseq"
   ]
  },
  {
   "cell_type": "markdown",
   "id": "9ffe8768",
   "metadata": {},
   "source": [
    "5. Create an array with 10 random integer values between 12 and 15, excluding 15."
   ]
  },
  {
   "cell_type": "code",
   "execution_count": 8,
   "id": "3783296c",
   "metadata": {},
   "outputs": [],
   "source": [
    "arr5 = np.random.randint(12,15,10)"
   ]
  },
  {
   "cell_type": "code",
   "execution_count": 9,
   "id": "4426d0bc",
   "metadata": {},
   "outputs": [
    {
     "data": {
      "text/plain": [
       "array([12, 14, 13, 13, 13, 12, 14, 12, 13, 13])"
      ]
     },
     "execution_count": 9,
     "metadata": {},
     "output_type": "execute_result"
    }
   ],
   "source": [
    "arr5"
   ]
  },
  {
   "cell_type": "markdown",
   "id": "2f46db31",
   "metadata": {},
   "source": [
    "6. Create the following array ‘arrfreq’ with 4 readings of 9 frequencies each.\n",
    "\n",
    "12.5, 14, 21, 4, 5, 34, 5, 23, 23\n",
    "\n",
    "21, 12, 22, 4.25, 7, 23, 52, 72, 21\n",
    "\n",
    "34.5, 45, 34, 7, 8, 25, 6, 25, 20\n",
    "\n",
    "18, 14.4, 20.1, 41, 15, 4, 15, 43, 23\n",
    "\n",
    "From the array ‘arrfreq’ select:\n",
    "\n",
    "a. The complete first reading\n",
    "\n",
    "b. The last frequency of each reading\n",
    "\n",
    "c. The 2nd to 5th frequency of each reading\n",
    "\n",
    "d. Upto the third frequency of the last two reading"
   ]
  },
  {
   "cell_type": "code",
   "execution_count": 10,
   "id": "1bb43478",
   "metadata": {},
   "outputs": [],
   "source": [
    "arr6 = [[12.5, 14, 21, 4, 5, 34, 5, 23, 23],[21, 12, 22, 4.25, 7, 23, 52, 72, 21],[34.5, 45, 34, 7, 8, 25, 6, 25, 20],[18, 14.4, 20.1, 41, 15, 4, 15, 43, 23]]"
   ]
  },
  {
   "cell_type": "code",
   "execution_count": 11,
   "id": "c3653316",
   "metadata": {},
   "outputs": [],
   "source": [
    "arrfreq = np.array(arr6).reshape(4,9)"
   ]
  },
  {
   "cell_type": "code",
   "execution_count": 12,
   "id": "d4dc4422",
   "metadata": {},
   "outputs": [
    {
     "data": {
      "text/plain": [
       "array([[12.5 , 14.  , 21.  ,  4.  ,  5.  , 34.  ,  5.  , 23.  , 23.  ],\n",
       "       [21.  , 12.  , 22.  ,  4.25,  7.  , 23.  , 52.  , 72.  , 21.  ],\n",
       "       [34.5 , 45.  , 34.  ,  7.  ,  8.  , 25.  ,  6.  , 25.  , 20.  ],\n",
       "       [18.  , 14.4 , 20.1 , 41.  , 15.  ,  4.  , 15.  , 43.  , 23.  ]])"
      ]
     },
     "execution_count": 12,
     "metadata": {},
     "output_type": "execute_result"
    }
   ],
   "source": [
    "arrfreq"
   ]
  },
  {
   "cell_type": "code",
   "execution_count": 13,
   "id": "4ac765f6",
   "metadata": {},
   "outputs": [
    {
     "data": {
      "text/plain": [
       "array([12.5, 14. , 21. ,  4. ,  5. , 34. ,  5. , 23. , 23. ])"
      ]
     },
     "execution_count": 13,
     "metadata": {},
     "output_type": "execute_result"
    }
   ],
   "source": [
    "arrfreq[0]"
   ]
  },
  {
   "cell_type": "code",
   "execution_count": 14,
   "id": "24cb7e53",
   "metadata": {},
   "outputs": [
    {
     "data": {
      "text/plain": [
       "array([23., 21., 20., 23.])"
      ]
     },
     "execution_count": 14,
     "metadata": {},
     "output_type": "execute_result"
    }
   ],
   "source": [
    "arrfreq[:,-1]"
   ]
  },
  {
   "cell_type": "code",
   "execution_count": 15,
   "id": "402fd4d5",
   "metadata": {},
   "outputs": [
    {
     "data": {
      "text/plain": [
       "array([[14.  , 21.  ,  4.  ,  5.  ],\n",
       "       [12.  , 22.  ,  4.25,  7.  ],\n",
       "       [45.  , 34.  ,  7.  ,  8.  ],\n",
       "       [14.4 , 20.1 , 41.  , 15.  ]])"
      ]
     },
     "execution_count": 15,
     "metadata": {},
     "output_type": "execute_result"
    }
   ],
   "source": [
    "arrfreq[:,1:5]"
   ]
  },
  {
   "cell_type": "code",
   "execution_count": 16,
   "id": "9d83bc9c",
   "metadata": {},
   "outputs": [
    {
     "data": {
      "text/plain": [
       "array([[34.5, 45. , 34. ],\n",
       "       [18. , 14.4, 20.1]])"
      ]
     },
     "execution_count": 16,
     "metadata": {},
     "output_type": "execute_result"
    }
   ],
   "source": [
    "arrfreq[-2:,0:3]"
   ]
  },
  {
   "cell_type": "markdown",
   "id": "94c2791c",
   "metadata": {},
   "source": [
    "Create the following 2-D array with each row representing a student and each column representing marks in Biology, Physics, Chemistry, Math and English.\n",
    "\n",
    "85 67 78 99 78\n",
    "\n",
    "94 69 77 89 67\n",
    "\n",
    "93 90 89 90 56\n",
    "\n",
    "90 78 60 78 77"
   ]
  },
  {
   "cell_type": "code",
   "execution_count": 2,
   "id": "1ea15de9",
   "metadata": {},
   "outputs": [],
   "source": [
    "marks = np.array([85,67,78,99,78,94,69,77,89,67,93,90,89,90,56,90,78,60,78,77])"
   ]
  },
  {
   "cell_type": "code",
   "execution_count": 3,
   "id": "c761f104",
   "metadata": {},
   "outputs": [],
   "source": [
    "marks=marks.reshape(4,5)"
   ]
  },
  {
   "cell_type": "code",
   "execution_count": 4,
   "id": "89dc95bf",
   "metadata": {},
   "outputs": [
    {
     "data": {
      "text/plain": [
       "array([[85, 67, 78, 99, 78],\n",
       "       [94, 69, 77, 89, 67],\n",
       "       [93, 90, 89, 90, 56],\n",
       "       [90, 78, 60, 78, 77]])"
      ]
     },
     "execution_count": 4,
     "metadata": {},
     "output_type": "execute_result"
    }
   ],
   "source": [
    "marks"
   ]
  },
  {
   "cell_type": "markdown",
   "id": "202c06b5",
   "metadata": {},
   "source": [
    "From the array created in question 8, answer the following:"
   ]
  },
  {
   "cell_type": "markdown",
   "id": "8d468e7d",
   "metadata": {},
   "source": [
    "a. The maximum marks in Physics"
   ]
  },
  {
   "cell_type": "code",
   "execution_count": 15,
   "id": "3b9071c5",
   "metadata": {},
   "outputs": [
    {
     "data": {
      "text/plain": [
       "90"
      ]
     },
     "execution_count": 15,
     "metadata": {},
     "output_type": "execute_result"
    }
   ],
   "source": [
    "np.max(np.array(marks[:,1]))"
   ]
  },
  {
   "cell_type": "markdown",
   "id": "c78ac5b9",
   "metadata": {},
   "source": [
    "b. The total marks of each student"
   ]
  },
  {
   "cell_type": "code",
   "execution_count": 16,
   "id": "2a449ba7",
   "metadata": {},
   "outputs": [
    {
     "data": {
      "text/plain": [
       "array([407, 396, 418, 383])"
      ]
     },
     "execution_count": 16,
     "metadata": {},
     "output_type": "execute_result"
    }
   ],
   "source": [
    "np.sum(marks,axis=1)"
   ]
  },
  {
   "cell_type": "markdown",
   "id": "71fda79b",
   "metadata": {},
   "source": [
    "c. The average marks scored by students in each subject"
   ]
  },
  {
   "cell_type": "code",
   "execution_count": 17,
   "id": "382c7b54",
   "metadata": {},
   "outputs": [
    {
     "data": {
      "text/plain": [
       "array([90.5, 76. , 76. , 89. , 69.5])"
      ]
     },
     "execution_count": 17,
     "metadata": {},
     "output_type": "execute_result"
    }
   ],
   "source": [
    "np.average(marks,axis=0)"
   ]
  },
  {
   "cell_type": "markdown",
   "id": "0a7e1da9",
   "metadata": {},
   "source": [
    "d. The minimum marks ever scored"
   ]
  },
  {
   "cell_type": "code",
   "execution_count": 11,
   "id": "b82bdf7c",
   "metadata": {},
   "outputs": [
    {
     "data": {
      "text/plain": [
       "56"
      ]
     },
     "execution_count": 11,
     "metadata": {},
     "output_type": "execute_result"
    }
   ],
   "source": [
    "np.min(marks)"
   ]
  }
 ],
 "metadata": {
  "kernelspec": {
   "display_name": "Python 3",
   "language": "python",
   "name": "python3"
  },
  "language_info": {
   "codemirror_mode": {
    "name": "ipython",
    "version": 3
   },
   "file_extension": ".py",
   "mimetype": "text/x-python",
   "name": "python",
   "nbconvert_exporter": "python",
   "pygments_lexer": "ipython3",
   "version": "3.8.8"
  }
 },
 "nbformat": 4,
 "nbformat_minor": 5
}
