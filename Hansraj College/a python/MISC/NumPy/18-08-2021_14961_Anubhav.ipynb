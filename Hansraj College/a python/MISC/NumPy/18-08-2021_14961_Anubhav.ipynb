{
 "cells": [
  {
   "cell_type": "code",
   "execution_count": 2,
   "id": "539b1b5f",
   "metadata": {},
   "outputs": [
    {
     "data": {
      "text/plain": [
       "4"
      ]
     },
     "execution_count": 2,
     "metadata": {},
     "output_type": "execute_result"
    }
   ],
   "source": [
    "2+2"
   ]
  },
  {
   "cell_type": "code",
   "execution_count": 1,
   "id": "8f2ee9a6",
   "metadata": {},
   "outputs": [
    {
     "data": {
      "text/plain": [
       "2"
      ]
     },
     "execution_count": 1,
     "metadata": {},
     "output_type": "execute_result"
    }
   ],
   "source": [
    "5//2"
   ]
  },
  {
   "cell_type": "code",
   "execution_count": 4,
   "id": "ac0a2400",
   "metadata": {},
   "outputs": [],
   "source": [
    "#comment"
   ]
  },
  {
   "cell_type": "markdown",
   "id": "70f03211",
   "metadata": {},
   "source": [
    "Check if a number is a Magic Number or not"
   ]
  },
  {
   "cell_type": "code",
   "execution_count": 8,
   "id": "a2c45e33",
   "metadata": {},
   "outputs": [],
   "source": [
    "#comment"
   ]
  },
  {
   "cell_type": "markdown",
   "id": "33aae2f8",
   "metadata": {},
   "source": [
    "1. Check if a number is odd or even\n",
    "2. Based on the percentage of marks,give grades A,B,C,F\n",
    "   %>90-A,%>80-B,%>70-C,%<70 - F\n",
    "3. Sum the first N integers\n",
    "4. Find if a number is prime number\n",
    "5. For a list of numbers print those that are divisible by 3"
   ]
  },
  {
   "cell_type": "code",
   "execution_count": 1,
   "id": "b6c0cd46",
   "metadata": {},
   "outputs": [
    {
     "name": "stdout",
     "output_type": "stream",
     "text": [
      "Enter a Number: 25\n",
      "Odd Number\n"
     ]
    }
   ],
   "source": [
    "num = int(input(\"Enter a Number: \")) \n",
    "if num % 2 == 0: \n",
    "    print(\"Even Number\") \n",
    "else: \n",
    "    print(\"Odd Number\")"
   ]
  },
  {
   "cell_type": "code",
   "execution_count": 6,
   "id": "7b370438",
   "metadata": {},
   "outputs": [
    {
     "name": "stdout",
     "output_type": "stream",
     "text": [
      "Enter the Percentage 96.66\n",
      "Grade: A\n"
     ]
    }
   ],
   "source": [
    "per = float(input(\"Enter Valid Percentage \"))\n",
    "if per > 0 and per < 100: \n",
    "    if per >= 90:\n",
    "        print(\"Grade: A\")\n",
    "    elif per >= 80 and per <90:\n",
    "        print(\"Grade: B\")\n",
    "    elif per >= 70 and per <80:\n",
    "        print(\"Grade: C\")\n",
    "    else:\n",
    "        print(\"Grade: F\")\n",
    "else:\n",
    "    print(\"Invalid Percentage \")"
   ]
  },
  {
   "cell_type": "code",
   "execution_count": 7,
   "id": "ff0f609e",
   "metadata": {},
   "outputs": [
    {
     "name": "stdout",
     "output_type": "stream",
     "text": [
      "Enter Number: 7\n",
      "Result: 28\n"
     ]
    }
   ],
   "source": [
    "num = int(input(\"Enter Number: \"))\n",
    "sum = 0 \n",
    "while(num>0):\n",
    "     sum+=num\n",
    "     num-=1   \n",
    "print(\"Result:\", sum)"
   ]
  },
  {
   "cell_type": "code",
   "execution_count": 11,
   "id": "902a4e41",
   "metadata": {},
   "outputs": [
    {
     "name": "stdout",
     "output_type": "stream",
     "text": [
      "Enter Number:\n",
      "22\n",
      "Composite Number\n"
     ]
    }
   ],
   "source": [
    "n = int(input(\"Enter Number:\\n\"))\n",
    "c = 0\n",
    "if n <= 1:\n",
    "    print(\"Number is neither Prime nor Composite\")\n",
    "else:\n",
    "    for i in range(2, (n//2)+1):\n",
    "        if n % i == 0:\n",
    "            flag = 0\n",
    "            c += 1\n",
    "    if c == 0:\n",
    "        print(\"Prime Number\")\n",
    "    else:\n",
    "        print(\"Composite Number\")\n"
   ]
  },
  {
   "cell_type": "code",
   "execution_count": 5,
   "id": "8395f643",
   "metadata": {},
   "outputs": [
    {
     "name": "stdout",
     "output_type": "stream",
     "text": [
      "Number of Terms of First List\n",
      "5\n",
      "Enter Number\n",
      "3\n",
      "Enter Number\n",
      "7\n",
      "Enter Number\n",
      "21\n",
      "Enter Number\n",
      "24\n",
      "Enter Number\n",
      "50\n",
      "The Numbers divisible by 3 : [3, 21, 24]\n"
     ]
    }
   ],
   "source": [
    "x = int(input(\"Number of Terms for the List\\n\"))\n",
    "a = []\n",
    "b = []\n",
    "for i in range(0, x):\n",
    "    n = int(input(\"Enter Number\\n\"))\n",
    "    a.append(n)\n",
    "    if a[i] % 3 == 0:\n",
    "        b.append(a[i])\n",
    "print(\"The Numbers divisible by 3 :\", b)"
   ]
  },
  {
   "cell_type": "code",
   "execution_count": 10,
   "id": "641a5905",
   "metadata": {},
   "outputs": [
    {
     "name": "stdout",
     "output_type": "stream",
     "text": [
      "Enter Number:\n",
      "2\n",
      "Prime Number\n"
     ]
    }
   ],
   "source": [
    "n = int(input(\"Enter Number:\\n\"))\n",
    "i=2\n",
    "if n <= 1:\n",
    "    print(\"Number is neither Prime nor Composite\")\n",
    "else:\n",
    "    flag = 0\n",
    "    while i<=num//2 and flag == 0 :\n",
    "        if n % i == 0:\n",
    "            flag = 1\n",
    "            i+=1\n",
    "    if flag == 0:\n",
    "        print(\"Prime Number\")\n",
    "    else:\n",
    "        print(\"Composite Number\")\n"
   ]
  },
  {
   "cell_type": "code",
   "execution_count": null,
   "id": "e38f8a07",
   "metadata": {},
   "outputs": [],
   "source": []
  }
 ],
 "metadata": {
  "kernelspec": {
   "display_name": "Python 3",
   "language": "python",
   "name": "python3"
  },
  "language_info": {
   "codemirror_mode": {
    "name": "ipython",
    "version": 3
   },
   "file_extension": ".py",
   "mimetype": "text/x-python",
   "name": "python",
   "nbconvert_exporter": "python",
   "pygments_lexer": "ipython3",
   "version": "3.8.8"
  }
 },
 "nbformat": 4,
 "nbformat_minor": 5
}
