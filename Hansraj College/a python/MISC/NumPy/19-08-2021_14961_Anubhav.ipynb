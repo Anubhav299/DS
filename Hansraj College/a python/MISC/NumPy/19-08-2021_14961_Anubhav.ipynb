{
 "cells": [
  {
   "cell_type": "code",
   "execution_count": 89,
   "id": "7ca4b640",
   "metadata": {},
   "outputs": [],
   "source": [
    "#NumPy"
   ]
  },
  {
   "cell_type": "code",
   "execution_count": 90,
   "id": "4be27670",
   "metadata": {},
   "outputs": [],
   "source": [
    "import numpy as np"
   ]
  },
  {
   "cell_type": "code",
   "execution_count": 91,
   "id": "e21439c7",
   "metadata": {},
   "outputs": [],
   "source": [
    "my_list=[11,22,33,44,55]"
   ]
  },
  {
   "cell_type": "code",
   "execution_count": 92,
   "id": "de252fe2",
   "metadata": {},
   "outputs": [],
   "source": [
    "narr=np.array(my_list)"
   ]
  },
  {
   "cell_type": "code",
   "execution_count": 93,
   "id": "34476ff3",
   "metadata": {},
   "outputs": [
    {
     "data": {
      "text/plain": [
       "list"
      ]
     },
     "execution_count": 93,
     "metadata": {},
     "output_type": "execute_result"
    }
   ],
   "source": [
    "type(my_list)"
   ]
  },
  {
   "cell_type": "code",
   "execution_count": 94,
   "id": "c78662db",
   "metadata": {},
   "outputs": [
    {
     "data": {
      "text/plain": [
       "numpy.ndarray"
      ]
     },
     "execution_count": 94,
     "metadata": {},
     "output_type": "execute_result"
    }
   ],
   "source": [
    "type(narr)"
   ]
  },
  {
   "cell_type": "code",
   "execution_count": 95,
   "id": "4bf73bb2",
   "metadata": {},
   "outputs": [
    {
     "data": {
      "text/plain": [
       "dtype('int32')"
      ]
     },
     "execution_count": 95,
     "metadata": {},
     "output_type": "execute_result"
    }
   ],
   "source": [
    "narr.dtype"
   ]
  },
  {
   "cell_type": "code",
   "execution_count": 96,
   "id": "b4ab5d60",
   "metadata": {},
   "outputs": [],
   "source": [
    "my_list2=[[1,2,3,4],[5,6,7,8]]"
   ]
  },
  {
   "cell_type": "code",
   "execution_count": 97,
   "id": "f530b1ee",
   "metadata": {},
   "outputs": [],
   "source": [
    "n2arr=np.array(my_list2)"
   ]
  },
  {
   "cell_type": "code",
   "execution_count": 98,
   "id": "747456e0",
   "metadata": {},
   "outputs": [
    {
     "data": {
      "text/plain": [
       "numpy.ndarray"
      ]
     },
     "execution_count": 98,
     "metadata": {},
     "output_type": "execute_result"
    }
   ],
   "source": [
    "type(n2arr)"
   ]
  },
  {
   "cell_type": "code",
   "execution_count": 99,
   "id": "54c682cb",
   "metadata": {},
   "outputs": [
    {
     "data": {
      "text/plain": [
       "array([[1, 2, 3, 4],\n",
       "       [5, 6, 7, 8]])"
      ]
     },
     "execution_count": 99,
     "metadata": {},
     "output_type": "execute_result"
    }
   ],
   "source": [
    "n2arr"
   ]
  },
  {
   "cell_type": "code",
   "execution_count": 100,
   "id": "637f045c",
   "metadata": {},
   "outputs": [
    {
     "data": {
      "text/plain": [
       "array([0, 1, 2, 3, 4])"
      ]
     },
     "execution_count": 100,
     "metadata": {},
     "output_type": "execute_result"
    }
   ],
   "source": [
    "np.arange(5)"
   ]
  },
  {
   "cell_type": "code",
   "execution_count": 101,
   "id": "5ca15012",
   "metadata": {},
   "outputs": [],
   "source": [
    "var = np.arange(5)"
   ]
  },
  {
   "cell_type": "code",
   "execution_count": 102,
   "id": "c864b4f8",
   "metadata": {},
   "outputs": [
    {
     "data": {
      "text/plain": [
       "array([0, 1, 2, 3, 4])"
      ]
     },
     "execution_count": 102,
     "metadata": {},
     "output_type": "execute_result"
    }
   ],
   "source": [
    "var"
   ]
  },
  {
   "cell_type": "code",
   "execution_count": 103,
   "id": "26762341",
   "metadata": {},
   "outputs": [
    {
     "data": {
      "text/plain": [
       "array([1, 2, 3, 4, 5, 6, 7, 8, 9])"
      ]
     },
     "execution_count": 103,
     "metadata": {},
     "output_type": "execute_result"
    }
   ],
   "source": [
    "np.arange(1,10)"
   ]
  },
  {
   "cell_type": "code",
   "execution_count": 104,
   "id": "86ebb45b",
   "metadata": {},
   "outputs": [
    {
     "data": {
      "text/plain": [
       "array([1, 4, 7])"
      ]
     },
     "execution_count": 104,
     "metadata": {},
     "output_type": "execute_result"
    }
   ],
   "source": [
    "np.arange(1,10,3)"
   ]
  },
  {
   "cell_type": "code",
   "execution_count": 105,
   "id": "30686162",
   "metadata": {},
   "outputs": [
    {
     "data": {
      "text/plain": [
       "array([0., 0., 0., 0., 0.])"
      ]
     },
     "execution_count": 105,
     "metadata": {},
     "output_type": "execute_result"
    }
   ],
   "source": [
    "np.zeros(5)"
   ]
  },
  {
   "cell_type": "code",
   "execution_count": 106,
   "id": "76694d1d",
   "metadata": {},
   "outputs": [
    {
     "data": {
      "text/plain": [
       "array([[0., 0., 0., 0.],\n",
       "       [0., 0., 0., 0.],\n",
       "       [0., 0., 0., 0.]])"
      ]
     },
     "execution_count": 106,
     "metadata": {},
     "output_type": "execute_result"
    }
   ],
   "source": [
    "np.zeros((3,4))"
   ]
  },
  {
   "cell_type": "code",
   "execution_count": 107,
   "id": "9bdb8372",
   "metadata": {},
   "outputs": [
    {
     "data": {
      "text/plain": [
       "array([1., 1., 1., 1., 1.])"
      ]
     },
     "execution_count": 107,
     "metadata": {},
     "output_type": "execute_result"
    }
   ],
   "source": [
    "np.ones(5)"
   ]
  },
  {
   "cell_type": "code",
   "execution_count": 108,
   "id": "6e762649",
   "metadata": {},
   "outputs": [
    {
     "data": {
      "text/plain": [
       "array([1.        , 1.11111111, 1.22222222, 1.33333333, 1.44444444,\n",
       "       1.55555556, 1.66666667, 1.77777778, 1.88888889, 2.        ])"
      ]
     },
     "execution_count": 108,
     "metadata": {},
     "output_type": "execute_result"
    }
   ],
   "source": [
    "np.linspace(1,2,10)"
   ]
  },
  {
   "cell_type": "code",
   "execution_count": 109,
   "id": "41c43098",
   "metadata": {},
   "outputs": [
    {
     "data": {
      "text/plain": [
       "array([0.        , 0.01010101, 0.02020202, 0.03030303, 0.04040404,\n",
       "       0.05050505, 0.06060606, 0.07070707, 0.08080808, 0.09090909,\n",
       "       0.1010101 , 0.11111111, 0.12121212, 0.13131313, 0.14141414,\n",
       "       0.15151515, 0.16161616, 0.17171717, 0.18181818, 0.19191919,\n",
       "       0.2020202 , 0.21212121, 0.22222222, 0.23232323, 0.24242424,\n",
       "       0.25252525, 0.26262626, 0.27272727, 0.28282828, 0.29292929,\n",
       "       0.3030303 , 0.31313131, 0.32323232, 0.33333333, 0.34343434,\n",
       "       0.35353535, 0.36363636, 0.37373737, 0.38383838, 0.39393939,\n",
       "       0.4040404 , 0.41414141, 0.42424242, 0.43434343, 0.44444444,\n",
       "       0.45454545, 0.46464646, 0.47474747, 0.48484848, 0.49494949,\n",
       "       0.50505051, 0.51515152, 0.52525253, 0.53535354, 0.54545455,\n",
       "       0.55555556, 0.56565657, 0.57575758, 0.58585859, 0.5959596 ,\n",
       "       0.60606061, 0.61616162, 0.62626263, 0.63636364, 0.64646465,\n",
       "       0.65656566, 0.66666667, 0.67676768, 0.68686869, 0.6969697 ,\n",
       "       0.70707071, 0.71717172, 0.72727273, 0.73737374, 0.74747475,\n",
       "       0.75757576, 0.76767677, 0.77777778, 0.78787879, 0.7979798 ,\n",
       "       0.80808081, 0.81818182, 0.82828283, 0.83838384, 0.84848485,\n",
       "       0.85858586, 0.86868687, 0.87878788, 0.88888889, 0.8989899 ,\n",
       "       0.90909091, 0.91919192, 0.92929293, 0.93939394, 0.94949495,\n",
       "       0.95959596, 0.96969697, 0.97979798, 0.98989899, 1.        ])"
      ]
     },
     "execution_count": 109,
     "metadata": {},
     "output_type": "execute_result"
    }
   ],
   "source": [
    "np.linspace(0,1,100)"
   ]
  },
  {
   "cell_type": "code",
   "execution_count": 110,
   "id": "811892d0",
   "metadata": {},
   "outputs": [
    {
     "data": {
      "text/plain": [
       "array([[1., 0., 0., 0., 0.],\n",
       "       [0., 1., 0., 0., 0.],\n",
       "       [0., 0., 1., 0., 0.],\n",
       "       [0., 0., 0., 1., 0.],\n",
       "       [0., 0., 0., 0., 1.]])"
      ]
     },
     "execution_count": 110,
     "metadata": {},
     "output_type": "execute_result"
    }
   ],
   "source": [
    "np.eye(5)"
   ]
  },
  {
   "cell_type": "code",
   "execution_count": 111,
   "id": "4570b27b",
   "metadata": {},
   "outputs": [
    {
     "data": {
      "text/plain": [
       "array([0.98135674, 0.67006779, 0.10672024, 0.30194392, 0.98145884])"
      ]
     },
     "execution_count": 111,
     "metadata": {},
     "output_type": "execute_result"
    }
   ],
   "source": [
    "np.random.rand(5)"
   ]
  },
  {
   "cell_type": "code",
   "execution_count": 112,
   "id": "e9bcc6b9",
   "metadata": {},
   "outputs": [
    {
     "data": {
      "text/plain": [
       "array([[0.86597637, 0.96357273, 0.28946383, 0.54629122, 0.41870428],\n",
       "       [0.09706792, 0.94334942, 0.76538375, 0.78472597, 0.51138646]])"
      ]
     },
     "execution_count": 112,
     "metadata": {},
     "output_type": "execute_result"
    }
   ],
   "source": [
    "np.random.rand(2,5)"
   ]
  },
  {
   "cell_type": "code",
   "execution_count": 113,
   "id": "1503287f",
   "metadata": {},
   "outputs": [
    {
     "data": {
      "text/plain": [
       "array([[ 0.21562924, -1.03603991],\n",
       "       [-1.02665147, -0.9458697 ],\n",
       "       [-1.71859574,  1.14556327],\n",
       "       [ 1.03255131,  0.75292656],\n",
       "       [ 1.05571452,  0.12223117],\n",
       "       [-0.6136153 ,  1.6166796 ]])"
      ]
     },
     "execution_count": 113,
     "metadata": {},
     "output_type": "execute_result"
    }
   ],
   "source": [
    "np.random.randn(6,2)"
   ]
  },
  {
   "cell_type": "code",
   "execution_count": 114,
   "id": "ea47dd81",
   "metadata": {},
   "outputs": [
    {
     "data": {
      "text/plain": [
       "2"
      ]
     },
     "execution_count": 114,
     "metadata": {},
     "output_type": "execute_result"
    }
   ],
   "source": [
    "np.random.randint(5)"
   ]
  },
  {
   "cell_type": "code",
   "execution_count": 115,
   "id": "fd31f8cf",
   "metadata": {},
   "outputs": [
    {
     "data": {
      "text/plain": [
       "9"
      ]
     },
     "execution_count": 115,
     "metadata": {},
     "output_type": "execute_result"
    }
   ],
   "source": [
    "np.random.randint(5,10)"
   ]
  },
  {
   "cell_type": "code",
   "execution_count": 116,
   "id": "98ec02c3",
   "metadata": {},
   "outputs": [
    {
     "data": {
      "text/plain": [
       "array([8, 7, 7, 6, 9, 6, 6, 8, 6, 7])"
      ]
     },
     "execution_count": 116,
     "metadata": {},
     "output_type": "execute_result"
    }
   ],
   "source": [
    "np.random.randint(5,10,10)"
   ]
  },
  {
   "cell_type": "code",
   "execution_count": 161,
   "id": "2352b97c",
   "metadata": {},
   "outputs": [],
   "source": [
    "rollno=np.arange(1,21)"
   ]
  },
  {
   "cell_type": "code",
   "execution_count": 118,
   "id": "613900f5",
   "metadata": {},
   "outputs": [
    {
     "data": {
      "text/plain": [
       "array([ 1,  2,  3,  4,  5,  6,  7,  8,  9, 10, 11, 12, 13, 14, 15, 16, 17,\n",
       "       18, 19, 20])"
      ]
     },
     "execution_count": 118,
     "metadata": {},
     "output_type": "execute_result"
    }
   ],
   "source": [
    "rollno"
   ]
  },
  {
   "cell_type": "code",
   "execution_count": 119,
   "id": "5a2c3a26",
   "metadata": {},
   "outputs": [
    {
     "data": {
      "text/plain": [
       "array([[ 1,  2,  3,  4,  5,  6,  7,  8,  9, 10],\n",
       "       [11, 12, 13, 14, 15, 16, 17, 18, 19, 20]])"
      ]
     },
     "execution_count": 119,
     "metadata": {},
     "output_type": "execute_result"
    }
   ],
   "source": [
    "rollno.reshape(2,10)"
   ]
  },
  {
   "cell_type": "code",
   "execution_count": 120,
   "id": "943bdc93",
   "metadata": {},
   "outputs": [
    {
     "data": {
      "text/plain": [
       "array([[ 1,  2,  3,  4,  5,  6,  7,  8,  9, 10, 11, 12, 13, 14, 15, 16,\n",
       "        17, 18, 19, 20]])"
      ]
     },
     "execution_count": 120,
     "metadata": {},
     "output_type": "execute_result"
    }
   ],
   "source": [
    "rollno.reshape(1,20)"
   ]
  },
  {
   "cell_type": "code",
   "execution_count": 121,
   "id": "e8b6d7de",
   "metadata": {},
   "outputs": [
    {
     "data": {
      "text/plain": [
       "array([[ 1,  2,  3,  4,  5,  6,  7,  8,  9, 10, 11, 12, 13, 14, 15, 16,\n",
       "        17, 18, 19, 20]])"
      ]
     },
     "execution_count": 121,
     "metadata": {},
     "output_type": "execute_result"
    }
   ],
   "source": [
    "rollno.reshape(1,-1)"
   ]
  },
  {
   "cell_type": "code",
   "execution_count": 122,
   "id": "0655fa32",
   "metadata": {},
   "outputs": [
    {
     "data": {
      "text/plain": [
       "(20,)"
      ]
     },
     "execution_count": 122,
     "metadata": {},
     "output_type": "execute_result"
    }
   ],
   "source": [
    "rollno.shape"
   ]
  },
  {
   "cell_type": "code",
   "execution_count": 123,
   "id": "c3bc1227",
   "metadata": {},
   "outputs": [
    {
     "data": {
      "text/plain": [
       "(1, 20)"
      ]
     },
     "execution_count": 123,
     "metadata": {},
     "output_type": "execute_result"
    }
   ],
   "source": [
    "rollno.reshape(1,-1).shape"
   ]
  },
  {
   "cell_type": "code",
   "execution_count": 124,
   "id": "15acad11",
   "metadata": {},
   "outputs": [
    {
     "data": {
      "text/plain": [
       "(2, 10)"
      ]
     },
     "execution_count": 124,
     "metadata": {},
     "output_type": "execute_result"
    }
   ],
   "source": [
    "rollno.reshape(2,10).shape"
   ]
  },
  {
   "cell_type": "code",
   "execution_count": 162,
   "id": "385bcf22",
   "metadata": {},
   "outputs": [],
   "source": [
    "rollno1=rollno.reshape(4,5)"
   ]
  },
  {
   "cell_type": "code",
   "execution_count": 163,
   "id": "bc0d0cdf",
   "metadata": {},
   "outputs": [
    {
     "data": {
      "text/plain": [
       "array([[ 1,  2,  3,  4,  5],\n",
       "       [ 6,  7,  8,  9, 10],\n",
       "       [11, 12, 13, 14, 15],\n",
       "       [16, 17, 18, 19, 20]])"
      ]
     },
     "execution_count": 163,
     "metadata": {},
     "output_type": "execute_result"
    }
   ],
   "source": [
    "rollno1"
   ]
  },
  {
   "cell_type": "code",
   "execution_count": 127,
   "id": "4abfd8ac",
   "metadata": {},
   "outputs": [
    {
     "data": {
      "text/plain": [
       "numpy.ndarray"
      ]
     },
     "execution_count": 127,
     "metadata": {},
     "output_type": "execute_result"
    }
   ],
   "source": [
    "type(rollno1)"
   ]
  },
  {
   "cell_type": "code",
   "execution_count": 128,
   "id": "89515433",
   "metadata": {},
   "outputs": [
    {
     "data": {
      "text/plain": [
       "array([[ 1,  2,  3,  4,  5],\n",
       "       [ 6,  7,  8,  9, 10],\n",
       "       [11, 12, 13, 14, 15],\n",
       "       [16, 17, 18, 19, 20]])"
      ]
     },
     "execution_count": 128,
     "metadata": {},
     "output_type": "execute_result"
    }
   ],
   "source": [
    "rollno1"
   ]
  },
  {
   "cell_type": "code",
   "execution_count": 129,
   "id": "8a57e518",
   "metadata": {},
   "outputs": [
    {
     "data": {
      "text/plain": [
       "array([11, 12, 13, 14, 15])"
      ]
     },
     "execution_count": 129,
     "metadata": {},
     "output_type": "execute_result"
    }
   ],
   "source": [
    "rollno1[2,:]"
   ]
  },
  {
   "cell_type": "code",
   "execution_count": 130,
   "id": "c1936616",
   "metadata": {},
   "outputs": [
    {
     "data": {
      "text/plain": [
       "array([[ 9, 10],\n",
       "       [14, 15]])"
      ]
     },
     "execution_count": 130,
     "metadata": {},
     "output_type": "execute_result"
    }
   ],
   "source": [
    "rollno1[1:3,3:5]"
   ]
  },
  {
   "cell_type": "code",
   "execution_count": 131,
   "id": "15f0f956",
   "metadata": {},
   "outputs": [
    {
     "data": {
      "text/plain": [
       "array([[ 6,  7,  8,  9, 10],\n",
       "       [11, 12, 13, 14, 15]])"
      ]
     },
     "execution_count": 131,
     "metadata": {},
     "output_type": "execute_result"
    }
   ],
   "source": [
    "rollno1[1:3,:]"
   ]
  },
  {
   "cell_type": "code",
   "execution_count": 132,
   "id": "20259518",
   "metadata": {},
   "outputs": [
    {
     "data": {
      "text/plain": [
       "20"
      ]
     },
     "execution_count": 132,
     "metadata": {},
     "output_type": "execute_result"
    }
   ],
   "source": [
    "rollno1[-1,-1]"
   ]
  },
  {
   "cell_type": "code",
   "execution_count": 133,
   "id": "940b2203",
   "metadata": {},
   "outputs": [],
   "source": [
    "rollno2=rollno"
   ]
  },
  {
   "cell_type": "code",
   "execution_count": 134,
   "id": "fa4bbe0d",
   "metadata": {},
   "outputs": [
    {
     "data": {
      "text/plain": [
       "array([ 1,  2,  3,  4,  5,  6,  7,  8,  9, 10, 11, 12, 13, 14, 15, 16, 17,\n",
       "       18, 19, 20])"
      ]
     },
     "execution_count": 134,
     "metadata": {},
     "output_type": "execute_result"
    }
   ],
   "source": [
    "rollno2"
   ]
  },
  {
   "cell_type": "code",
   "execution_count": 135,
   "id": "e5e8aada",
   "metadata": {},
   "outputs": [],
   "source": [
    "rollno2[5:10]=-1"
   ]
  },
  {
   "cell_type": "code",
   "execution_count": 136,
   "id": "ae1ba64e",
   "metadata": {},
   "outputs": [
    {
     "data": {
      "text/plain": [
       "array([ 1,  2,  3,  4,  5, -1, -1, -1, -1, -1, 11, 12, 13, 14, 15, 16, 17,\n",
       "       18, 19, 20])"
      ]
     },
     "execution_count": 136,
     "metadata": {},
     "output_type": "execute_result"
    }
   ],
   "source": [
    "rollno2"
   ]
  },
  {
   "cell_type": "code",
   "execution_count": 137,
   "id": "127b8d72",
   "metadata": {},
   "outputs": [
    {
     "data": {
      "text/plain": [
       "array([ 1,  2,  3,  4,  5, -1, -1, -1, -1, -1, 11, 12, 13, 14, 15, 16, 17,\n",
       "       18, 19, 20])"
      ]
     },
     "execution_count": 137,
     "metadata": {},
     "output_type": "execute_result"
    }
   ],
   "source": [
    "rollno"
   ]
  },
  {
   "cell_type": "markdown",
   "id": "76b1c857",
   "metadata": {},
   "source": [
    "changes made in rollno2 reflected in rollno \n",
    "Call by Reference issue"
   ]
  },
  {
   "cell_type": "code",
   "execution_count": 138,
   "id": "44b42013",
   "metadata": {},
   "outputs": [],
   "source": [
    "rollno3=rollno.copy()"
   ]
  },
  {
   "cell_type": "code",
   "execution_count": 139,
   "id": "c9e73096",
   "metadata": {},
   "outputs": [],
   "source": [
    "rollno3[10:12]=-1"
   ]
  },
  {
   "cell_type": "code",
   "execution_count": 140,
   "id": "c9369da2",
   "metadata": {},
   "outputs": [
    {
     "data": {
      "text/plain": [
       "array([ 1,  2,  3,  4,  5, -1, -1, -1, -1, -1, -1, -1, 13, 14, 15, 16, 17,\n",
       "       18, 19, 20])"
      ]
     },
     "execution_count": 140,
     "metadata": {},
     "output_type": "execute_result"
    }
   ],
   "source": [
    "rollno3"
   ]
  },
  {
   "cell_type": "code",
   "execution_count": 141,
   "id": "dd5be07a",
   "metadata": {},
   "outputs": [
    {
     "data": {
      "text/plain": [
       "array([ 1,  2,  3,  4,  5, -1, -1, -1, -1, -1, 11, 12, 13, 14, 15, 16, 17,\n",
       "       18, 19, 20])"
      ]
     },
     "execution_count": 141,
     "metadata": {},
     "output_type": "execute_result"
    }
   ],
   "source": [
    "rollno"
   ]
  },
  {
   "cell_type": "code",
   "execution_count": 142,
   "id": "c831d962",
   "metadata": {},
   "outputs": [],
   "source": [
    "rollno=np.arange(1,21)"
   ]
  },
  {
   "cell_type": "code",
   "execution_count": 143,
   "id": "ef6c7e44",
   "metadata": {},
   "outputs": [
    {
     "data": {
      "text/plain": [
       "array([ 1,  2,  3,  4,  5,  6,  7,  8,  9, 10, 11, 12, 13, 14, 15, 16, 17,\n",
       "       18, 19, 20])"
      ]
     },
     "execution_count": 143,
     "metadata": {},
     "output_type": "execute_result"
    }
   ],
   "source": [
    "rollno"
   ]
  },
  {
   "cell_type": "code",
   "execution_count": 144,
   "id": "d9e94f79",
   "metadata": {},
   "outputs": [
    {
     "data": {
      "text/plain": [
       "array([False, False, False, False, False, False, False, False, False,\n",
       "       False,  True,  True,  True,  True,  True,  True,  True,  True,\n",
       "        True,  True])"
      ]
     },
     "execution_count": 144,
     "metadata": {},
     "output_type": "execute_result"
    }
   ],
   "source": [
    "rollno>10"
   ]
  },
  {
   "cell_type": "code",
   "execution_count": 145,
   "id": "2329b2e4",
   "metadata": {},
   "outputs": [
    {
     "data": {
      "text/plain": [
       "array([11, 12, 13, 14, 15, 16, 17, 18, 19, 20])"
      ]
     },
     "execution_count": 145,
     "metadata": {},
     "output_type": "execute_result"
    }
   ],
   "source": [
    "rollno[rollno>10]"
   ]
  },
  {
   "cell_type": "code",
   "execution_count": 146,
   "id": "9e638f4d",
   "metadata": {},
   "outputs": [
    {
     "data": {
      "text/plain": [
       "array([ 6,  7,  8,  9, 10, 11, 12, 13, 14, 15, 16, 17, 18, 19, 20])"
      ]
     },
     "execution_count": 146,
     "metadata": {},
     "output_type": "execute_result"
    }
   ],
   "source": [
    "rollno[rollno>5]"
   ]
  },
  {
   "cell_type": "code",
   "execution_count": 147,
   "id": "95836e75",
   "metadata": {},
   "outputs": [
    {
     "data": {
      "text/plain": [
       "array([ 3,  4,  5,  6,  7,  1,  1,  1,  1,  1, 13, 14, 15, 16, 17, 18, 19,\n",
       "       20, 21, 22])"
      ]
     },
     "execution_count": 147,
     "metadata": {},
     "output_type": "execute_result"
    }
   ],
   "source": [
    "rollno2+2"
   ]
  },
  {
   "cell_type": "markdown",
   "id": "a6fb637e",
   "metadata": {},
   "source": [
    "In NumPy Array this is allowed but in list this isn't allowed"
   ]
  },
  {
   "cell_type": "code",
   "execution_count": 148,
   "id": "4ec06d6c",
   "metadata": {},
   "outputs": [],
   "source": [
    "list11=[2,3]"
   ]
  },
  {
   "cell_type": "code",
   "execution_count": 149,
   "id": "144cf183",
   "metadata": {},
   "outputs": [
    {
     "ename": "TypeError",
     "evalue": "can only concatenate list (not \"int\") to list",
     "output_type": "error",
     "traceback": [
      "\u001b[1;31m---------------------------------------------------------------------------\u001b[0m",
      "\u001b[1;31mTypeError\u001b[0m                                 Traceback (most recent call last)",
      "\u001b[1;32m<ipython-input-149-d2a9c39993f0>\u001b[0m in \u001b[0;36m<module>\u001b[1;34m\u001b[0m\n\u001b[1;32m----> 1\u001b[1;33m \u001b[0mlist11\u001b[0m\u001b[1;33m+\u001b[0m\u001b[1;36m4\u001b[0m\u001b[1;33m\u001b[0m\u001b[1;33m\u001b[0m\u001b[0m\n\u001b[0m",
      "\u001b[1;31mTypeError\u001b[0m: can only concatenate list (not \"int\") to list"
     ]
    }
   ],
   "source": [
    "list11+4"
   ]
  },
  {
   "cell_type": "markdown",
   "id": "207bd4a6",
   "metadata": {},
   "source": [
    "Example of In NumPy Array this is allowed but in list this isn't allowed"
   ]
  },
  {
   "cell_type": "code",
   "execution_count": 151,
   "id": "5421f018",
   "metadata": {},
   "outputs": [
    {
     "data": {
      "text/plain": [
       "1"
      ]
     },
     "execution_count": 151,
     "metadata": {},
     "output_type": "execute_result"
    }
   ],
   "source": [
    "np.min(rollno)"
   ]
  },
  {
   "cell_type": "code",
   "execution_count": 152,
   "id": "eb1e9ef2",
   "metadata": {},
   "outputs": [
    {
     "data": {
      "text/plain": [
       "20"
      ]
     },
     "execution_count": 152,
     "metadata": {},
     "output_type": "execute_result"
    }
   ],
   "source": [
    "np.max(rollno)"
   ]
  },
  {
   "cell_type": "code",
   "execution_count": 159,
   "id": "ff5f59d6",
   "metadata": {},
   "outputs": [
    {
     "data": {
      "text/plain": [
       "210"
      ]
     },
     "execution_count": 159,
     "metadata": {},
     "output_type": "execute_result"
    }
   ],
   "source": [
    "np.sum(rollno)"
   ]
  },
  {
   "cell_type": "code",
   "execution_count": 164,
   "id": "0b7a5588",
   "metadata": {},
   "outputs": [
    {
     "data": {
      "text/plain": [
       "array([[ 1,  2,  3,  4,  5],\n",
       "       [ 6,  7,  8,  9, 10],\n",
       "       [11, 12, 13, 14, 15],\n",
       "       [16, 17, 18, 19, 20]])"
      ]
     },
     "execution_count": 164,
     "metadata": {},
     "output_type": "execute_result"
    }
   ],
   "source": [
    "rollno1"
   ]
  },
  {
   "cell_type": "code",
   "execution_count": 165,
   "id": "302e9837",
   "metadata": {},
   "outputs": [
    {
     "data": {
      "text/plain": [
       "array([34, 38, 42, 46, 50])"
      ]
     },
     "execution_count": 165,
     "metadata": {},
     "output_type": "execute_result"
    }
   ],
   "source": [
    "np.sum(rollno1,axis=0)"
   ]
  },
  {
   "cell_type": "markdown",
   "id": "fc6b2c52",
   "metadata": {},
   "source": [
    "sum of elements column wise"
   ]
  },
  {
   "cell_type": "code",
   "execution_count": 166,
   "id": "99d46f1b",
   "metadata": {},
   "outputs": [
    {
     "data": {
      "text/plain": [
       "array([15, 40, 65, 90])"
      ]
     },
     "execution_count": 166,
     "metadata": {},
     "output_type": "execute_result"
    }
   ],
   "source": [
    "np.sum(rollno1,axis=1)"
   ]
  },
  {
   "cell_type": "markdown",
   "id": "b135e8dc",
   "metadata": {},
   "source": [
    "sum of elements row wise"
   ]
  },
  {
   "cell_type": "code",
   "execution_count": 156,
   "id": "7a1c6762",
   "metadata": {},
   "outputs": [
    {
     "data": {
      "text/plain": [
       "21"
      ]
     },
     "execution_count": 156,
     "metadata": {},
     "output_type": "execute_result"
    }
   ],
   "source": [
    "np.max(rollno)+np.min(rollno)"
   ]
  },
  {
   "cell_type": "code",
   "execution_count": 157,
   "id": "c7e498cb",
   "metadata": {},
   "outputs": [
    {
     "data": {
      "text/plain": [
       "10.5"
      ]
     },
     "execution_count": 157,
     "metadata": {},
     "output_type": "execute_result"
    }
   ],
   "source": [
    "np.median(rollno)"
   ]
  },
  {
   "cell_type": "code",
   "execution_count": 158,
   "id": "89c4f58a",
   "metadata": {},
   "outputs": [
    {
     "data": {
      "text/plain": [
       "array([[ 1,  2,  3,  4,  5],\n",
       "       [-1, -1, -1, -1, -1],\n",
       "       [11, 12, 13, 14, 15],\n",
       "       [16, 17, 18, 19, 20]])"
      ]
     },
     "execution_count": 158,
     "metadata": {},
     "output_type": "execute_result"
    }
   ],
   "source": [
    "rollno1"
   ]
  },
  {
   "cell_type": "code",
   "execution_count": null,
   "id": "5e607bca",
   "metadata": {},
   "outputs": [],
   "source": []
  }
 ],
 "metadata": {
  "kernelspec": {
   "display_name": "Python 3",
   "language": "python",
   "name": "python3"
  },
  "language_info": {
   "codemirror_mode": {
    "name": "ipython",
    "version": 3
   },
   "file_extension": ".py",
   "mimetype": "text/x-python",
   "name": "python",
   "nbconvert_exporter": "python",
   "pygments_lexer": "ipython3",
   "version": "3.8.8"
  }
 },
 "nbformat": 4,
 "nbformat_minor": 5
}
