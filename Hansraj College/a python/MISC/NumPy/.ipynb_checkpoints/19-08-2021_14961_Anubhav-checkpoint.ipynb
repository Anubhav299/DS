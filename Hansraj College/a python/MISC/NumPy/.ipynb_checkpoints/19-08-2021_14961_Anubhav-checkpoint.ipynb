{
 "cells": [
  {
   "cell_type": "code",
   "execution_count": 1,
   "id": "7ca4b640",
   "metadata": {},
   "outputs": [],
   "source": [
    "#NumPy"
   ]
  },
  {
   "cell_type": "code",
   "execution_count": null,
   "id": "4be27670",
   "metadata": {},
   "outputs": [],
   "source": [
    "import numpy as np"
   ]
  },
  {
   "cell_type": "code",
   "execution_count": null,
   "id": "e21439c7",
   "metadata": {},
   "outputs": [],
   "source": [
    "my_list=[11,22,33,44,55]"
   ]
  },
  {
   "cell_type": "code",
   "execution_count": null,
   "id": "de252fe2",
   "metadata": {},
   "outputs": [],
   "source": [
    "narr=np.array(my_list)"
   ]
  },
  {
   "cell_type": "code",
   "execution_count": null,
   "id": "34476ff3",
   "metadata": {},
   "outputs": [],
   "source": [
    "type(my_list)"
   ]
  },
  {
   "cell_type": "code",
   "execution_count": null,
   "id": "c78662db",
   "metadata": {},
   "outputs": [],
   "source": [
    "type(narr)"
   ]
  },
  {
   "cell_type": "code",
   "execution_count": null,
   "id": "4bf73bb2",
   "metadata": {},
   "outputs": [],
   "source": [
    "narr.dtype"
   ]
  },
  {
   "cell_type": "code",
   "execution_count": null,
   "id": "b4ab5d60",
   "metadata": {},
   "outputs": [],
   "source": [
    "my_list2=[[1,2,3,4],[5,6,7,8]]"
   ]
  },
  {
   "cell_type": "code",
   "execution_count": null,
   "id": "f530b1ee",
   "metadata": {},
   "outputs": [],
   "source": [
    "n2arr=np.array(my_list2)"
   ]
  },
  {
   "cell_type": "code",
   "execution_count": null,
   "id": "747456e0",
   "metadata": {},
   "outputs": [],
   "source": [
    "type(n2arr)"
   ]
  },
  {
   "cell_type": "code",
   "execution_count": null,
   "id": "54c682cb",
   "metadata": {},
   "outputs": [],
   "source": [
    "n2arr"
   ]
  },
  {
   "cell_type": "code",
   "execution_count": null,
   "id": "637f045c",
   "metadata": {},
   "outputs": [],
   "source": [
    "np.arange(5)"
   ]
  },
  {
   "cell_type": "code",
   "execution_count": null,
   "id": "5ca15012",
   "metadata": {},
   "outputs": [],
   "source": [
    "var = np.arange(5)"
   ]
  },
  {
   "cell_type": "code",
   "execution_count": null,
   "id": "c864b4f8",
   "metadata": {},
   "outputs": [],
   "source": [
    "var"
   ]
  },
  {
   "cell_type": "code",
   "execution_count": null,
   "id": "26762341",
   "metadata": {},
   "outputs": [],
   "source": [
    "np.arange(1,10)"
   ]
  },
  {
   "cell_type": "code",
   "execution_count": null,
   "id": "86ebb45b",
   "metadata": {},
   "outputs": [],
   "source": [
    "np.arange(1,10,3)"
   ]
  },
  {
   "cell_type": "code",
   "execution_count": null,
   "id": "30686162",
   "metadata": {},
   "outputs": [],
   "source": [
    "np.zeros(5)"
   ]
  },
  {
   "cell_type": "code",
   "execution_count": null,
   "id": "76694d1d",
   "metadata": {},
   "outputs": [],
   "source": [
    "np.zeros((3,4))"
   ]
  },
  {
   "cell_type": "code",
   "execution_count": null,
   "id": "9bdb8372",
   "metadata": {},
   "outputs": [],
   "source": [
    "np.ones(5)"
   ]
  },
  {
   "cell_type": "code",
   "execution_count": null,
   "id": "6e762649",
   "metadata": {},
   "outputs": [],
   "source": [
    "np.linspace(1,2,10)"
   ]
  },
  {
   "cell_type": "code",
   "execution_count": null,
   "id": "41c43098",
   "metadata": {},
   "outputs": [],
   "source": [
    "np.linspace(0,1,100)"
   ]
  },
  {
   "cell_type": "code",
   "execution_count": null,
   "id": "811892d0",
   "metadata": {},
   "outputs": [],
   "source": [
    "np.eye(5)"
   ]
  },
  {
   "cell_type": "code",
   "execution_count": null,
   "id": "4570b27b",
   "metadata": {},
   "outputs": [],
   "source": [
    "np.random.rand(5)"
   ]
  },
  {
   "cell_type": "code",
   "execution_count": null,
   "id": "e9bcc6b9",
   "metadata": {},
   "outputs": [],
   "source": [
    "np.random.rand(2,5)"
   ]
  },
  {
   "cell_type": "code",
   "execution_count": null,
   "id": "1503287f",
   "metadata": {},
   "outputs": [],
   "source": [
    "np.random.randn(6,2)"
   ]
  },
  {
   "cell_type": "code",
   "execution_count": null,
   "id": "ea47dd81",
   "metadata": {},
   "outputs": [],
   "source": [
    "np.random.randint(5)"
   ]
  },
  {
   "cell_type": "code",
   "execution_count": null,
   "id": "fd31f8cf",
   "metadata": {},
   "outputs": [],
   "source": [
    "np.random.randint(5,10)"
   ]
  },
  {
   "cell_type": "code",
   "execution_count": null,
   "id": "98ec02c3",
   "metadata": {},
   "outputs": [],
   "source": [
    "np.random.randint(5,10,10)"
   ]
  },
  {
   "cell_type": "code",
   "execution_count": null,
   "id": "2352b97c",
   "metadata": {},
   "outputs": [],
   "source": [
    "rollno=np.arange(1,21)"
   ]
  },
  {
   "cell_type": "code",
   "execution_count": null,
   "id": "613900f5",
   "metadata": {},
   "outputs": [],
   "source": [
    "rollno"
   ]
  },
  {
   "cell_type": "code",
   "execution_count": null,
   "id": "5a2c3a26",
   "metadata": {},
   "outputs": [],
   "source": [
    "rollno.reshape(2,10)"
   ]
  },
  {
   "cell_type": "code",
   "execution_count": null,
   "id": "943bdc93",
   "metadata": {},
   "outputs": [],
   "source": [
    "rollno"
   ]
  },
  {
   "cell_type": "code",
   "execution_count": null,
   "id": "e8b6d7de",
   "metadata": {},
   "outputs": [],
   "source": [
    "rollno.reshape(1,-1)"
   ]
  },
  {
   "cell_type": "code",
   "execution_count": null,
   "id": "0655fa32",
   "metadata": {},
   "outputs": [],
   "source": [
    "rollno.shape"
   ]
  },
  {
   "cell_type": "code",
   "execution_count": null,
   "id": "c3bc1227",
   "metadata": {},
   "outputs": [],
   "source": [
    "rollno.reshape(1,-1).shape"
   ]
  },
  {
   "cell_type": "code",
   "execution_count": null,
   "id": "15acad11",
   "metadata": {},
   "outputs": [],
   "source": [
    "rollno.reshape(2,10).shape"
   ]
  },
  {
   "cell_type": "code",
   "execution_count": null,
   "id": "385bcf22",
   "metadata": {},
   "outputs": [],
   "source": [
    "rollno1=rollno.reshape(4,5)"
   ]
  },
  {
   "cell_type": "code",
   "execution_count": null,
   "id": "bc0d0cdf",
   "metadata": {},
   "outputs": [],
   "source": [
    "rollno1"
   ]
  },
  {
   "cell_type": "code",
   "execution_count": null,
   "id": "4abfd8ac",
   "metadata": {},
   "outputs": [],
   "source": [
    "type(rollno1)"
   ]
  },
  {
   "cell_type": "code",
   "execution_count": null,
   "id": "8a57e518",
   "metadata": {},
   "outputs": [],
   "source": [
    "rollno1[2,:]"
   ]
  },
  {
   "cell_type": "code",
   "execution_count": null,
   "id": "c1936616",
   "metadata": {},
   "outputs": [],
   "source": [
    "rollno1[1:3,3:5]"
   ]
  },
  {
   "cell_type": "code",
   "execution_count": null,
   "id": "15f0f956",
   "metadata": {},
   "outputs": [],
   "source": [
    "rollno1[1:3,:]"
   ]
  },
  {
   "cell_type": "code",
   "execution_count": null,
   "id": "20259518",
   "metadata": {},
   "outputs": [],
   "source": [
    "rollno1[-1,-1]"
   ]
  },
  {
   "cell_type": "code",
   "execution_count": null,
   "id": "940b2203",
   "metadata": {},
   "outputs": [],
   "source": [
    "rollno2=rollno"
   ]
  },
  {
   "cell_type": "code",
   "execution_count": null,
   "id": "fa4bbe0d",
   "metadata": {},
   "outputs": [],
   "source": [
    "rollno2"
   ]
  },
  {
   "cell_type": "code",
   "execution_count": null,
   "id": "e5e8aada",
   "metadata": {},
   "outputs": [],
   "source": [
    "rollno2[5:10]=-1"
   ]
  },
  {
   "cell_type": "code",
   "execution_count": null,
   "id": "ae1ba64e",
   "metadata": {},
   "outputs": [],
   "source": [
    "rollno2"
   ]
  },
  {
   "cell_type": "code",
   "execution_count": null,
   "id": "127b8d72",
   "metadata": {},
   "outputs": [],
   "source": [
    "rollno"
   ]
  },
  {
   "cell_type": "markdown",
   "id": "76b1c857",
   "metadata": {},
   "source": [
    "changes made in rollno2 reflected in rollno \n",
    "Call by Reference issue"
   ]
  },
  {
   "cell_type": "code",
   "execution_count": null,
   "id": "44b42013",
   "metadata": {},
   "outputs": [],
   "source": [
    "rollno3=rollno.copy()"
   ]
  },
  {
   "cell_type": "code",
   "execution_count": null,
   "id": "c9e73096",
   "metadata": {},
   "outputs": [],
   "source": [
    "rollno3[10:12]=-1"
   ]
  },
  {
   "cell_type": "code",
   "execution_count": null,
   "id": "c9369da2",
   "metadata": {},
   "outputs": [],
   "source": [
    "rollno3"
   ]
  },
  {
   "cell_type": "code",
   "execution_count": null,
   "id": "dd5be07a",
   "metadata": {},
   "outputs": [],
   "source": [
    "rollno"
   ]
  },
  {
   "cell_type": "code",
   "execution_count": null,
   "id": "c831d962",
   "metadata": {},
   "outputs": [],
   "source": [
    "rollno=np.arange(1,21)"
   ]
  },
  {
   "cell_type": "code",
   "execution_count": null,
   "id": "ef6c7e44",
   "metadata": {},
   "outputs": [],
   "source": [
    "rollno"
   ]
  },
  {
   "cell_type": "code",
   "execution_count": null,
   "id": "d9e94f79",
   "metadata": {},
   "outputs": [],
   "source": [
    "rollno>10"
   ]
  },
  {
   "cell_type": "code",
   "execution_count": null,
   "id": "2329b2e4",
   "metadata": {},
   "outputs": [],
   "source": [
    "rollno[rollno>10]"
   ]
  },
  {
   "cell_type": "code",
   "execution_count": null,
   "id": "9e638f4d",
   "metadata": {},
   "outputs": [],
   "source": [
    "rollno[rollno>5]"
   ]
  },
  {
   "cell_type": "code",
   "execution_count": null,
   "id": "95836e75",
   "metadata": {},
   "outputs": [],
   "source": [
    "rollno2+2"
   ]
  },
  {
   "cell_type": "markdown",
   "id": "a6fb637e",
   "metadata": {},
   "source": [
    "In NumPy Array this is allowed but in list this isn't allowed"
   ]
  },
  {
   "cell_type": "code",
   "execution_count": null,
   "id": "4ec06d6c",
   "metadata": {},
   "outputs": [],
   "source": [
    "list11=[2,3]"
   ]
  },
  {
   "cell_type": "code",
   "execution_count": null,
   "id": "144cf183",
   "metadata": {},
   "outputs": [],
   "source": [
    "list11+4"
   ]
  },
  {
   "cell_type": "markdown",
   "id": "207bd4a6",
   "metadata": {},
   "source": [
    "Example of In NumPy Array this is allowed but in list this isn't allowed"
   ]
  },
  {
   "cell_type": "code",
   "execution_count": null,
   "id": "5421f018",
   "metadata": {},
   "outputs": [],
   "source": [
    "np.min(rollno)"
   ]
  },
  {
   "cell_type": "code",
   "execution_count": null,
   "id": "eb1e9ef2",
   "metadata": {},
   "outputs": [],
   "source": [
    "np.max(rollno)"
   ]
  },
  {
   "cell_type": "code",
   "execution_count": null,
   "id": "ff5f59d6",
   "metadata": {},
   "outputs": [],
   "source": [
    "np.sum(rollno)"
   ]
  },
  {
   "cell_type": "code",
   "execution_count": null,
   "id": "302e9837",
   "metadata": {},
   "outputs": [],
   "source": [
    "np.sum(rollno1,axis=0)"
   ]
  },
  {
   "cell_type": "markdown",
   "id": "fc6b2c52",
   "metadata": {},
   "source": [
    "sum of elements column wise"
   ]
  },
  {
   "cell_type": "code",
   "execution_count": null,
   "id": "99d46f1b",
   "metadata": {},
   "outputs": [],
   "source": [
    "np.sum(rollno1,axis=1)"
   ]
  },
  {
   "cell_type": "markdown",
   "id": "b135e8dc",
   "metadata": {},
   "source": [
    "sum of elements row wise"
   ]
  },
  {
   "cell_type": "code",
   "execution_count": null,
   "id": "7a1c6762",
   "metadata": {},
   "outputs": [],
   "source": [
    "np.max(rollno)+np.min(rollno)"
   ]
  },
  {
   "cell_type": "code",
   "execution_count": null,
   "id": "c7e498cb",
   "metadata": {},
   "outputs": [],
   "source": [
    "np.median(rollno)"
   ]
  },
  {
   "cell_type": "code",
   "execution_count": null,
   "id": "89c4f58a",
   "metadata": {},
   "outputs": [],
   "source": [
    "rollno1"
   ]
  },
  {
   "cell_type": "code",
   "execution_count": null,
   "id": "5e607bca",
   "metadata": {},
   "outputs": [],
   "source": []
  }
 ],
 "metadata": {
  "kernelspec": {
   "display_name": "Python 3",
   "language": "python",
   "name": "python3"
  },
  "language_info": {
   "codemirror_mode": {
    "name": "ipython",
    "version": 3
   },
   "file_extension": ".py",
   "mimetype": "text/x-python",
   "name": "python",
   "nbconvert_exporter": "python",
   "pygments_lexer": "ipython3",
   "version": "3.8.8"
  }
 },
 "nbformat": 4,
 "nbformat_minor": 5
}
