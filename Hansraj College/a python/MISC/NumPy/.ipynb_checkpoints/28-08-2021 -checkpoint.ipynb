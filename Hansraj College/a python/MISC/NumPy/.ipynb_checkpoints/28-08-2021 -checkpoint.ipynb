{
 "cells": [
  {
   "cell_type": "code",
   "execution_count": 1,
   "id": "de76c086",
   "metadata": {},
   "outputs": [],
   "source": [
    "list1 = [11,22,33,44]"
   ]
  },
  {
   "cell_type": "code",
   "execution_count": 2,
   "id": "060e3013",
   "metadata": {},
   "outputs": [
    {
     "data": {
      "text/plain": [
       "[11, 22, 33, 44, 11, 22, 33, 44]"
      ]
     },
     "execution_count": 2,
     "metadata": {},
     "output_type": "execute_result"
    }
   ],
   "source": [
    "list1 * 2"
   ]
  },
  {
   "cell_type": "code",
   "execution_count": 5,
   "id": "5d647e33",
   "metadata": {},
   "outputs": [],
   "source": [
    "new_list = [i*2 for i in list1]"
   ]
  },
  {
   "cell_type": "code",
   "execution_count": 6,
   "id": "9103feb9",
   "metadata": {},
   "outputs": [
    {
     "data": {
      "text/plain": [
       "[22, 44, 66, 88]"
      ]
     },
     "execution_count": 6,
     "metadata": {},
     "output_type": "execute_result"
    }
   ],
   "source": [
    "new_list"
   ]
  },
  {
   "cell_type": "code",
   "execution_count": 7,
   "id": "88414fe2",
   "metadata": {},
   "outputs": [],
   "source": [
    "import numpy as np"
   ]
  },
  {
   "cell_type": "code",
   "execution_count": 9,
   "id": "2d9d3158",
   "metadata": {},
   "outputs": [],
   "source": [
    "list2 = np.array(list1)"
   ]
  },
  {
   "cell_type": "code",
   "execution_count": 10,
   "id": "ba7c3ee6",
   "metadata": {},
   "outputs": [],
   "source": [
    "data = np.random.randn(2, 3)"
   ]
  },
  {
   "cell_type": "code",
   "execution_count": 11,
   "id": "8f8216c9",
   "metadata": {},
   "outputs": [
    {
     "data": {
      "text/plain": [
       "array([[-0.80141004, -0.07446125,  1.47172242],\n",
       "       [ 1.29114451, -1.64108147, -1.53596923]])"
      ]
     },
     "execution_count": 11,
     "metadata": {},
     "output_type": "execute_result"
    }
   ],
   "source": [
    "data"
   ]
  },
  {
   "cell_type": "code",
   "execution_count": 12,
   "id": "26b07a18",
   "metadata": {},
   "outputs": [],
   "source": [
    "data1 = np.random.randn(2, 3, 2)"
   ]
  },
  {
   "cell_type": "code",
   "execution_count": 13,
   "id": "44e3f285",
   "metadata": {},
   "outputs": [
    {
     "data": {
      "text/plain": [
       "array([[[ 1.11581551,  0.57590696],\n",
       "        [-0.05130275,  0.23730765],\n",
       "        [-1.32997271, -0.26676144]],\n",
       "\n",
       "       [[ 0.59470821, -1.11820632],\n",
       "        [ 0.92426596, -0.68551362],\n",
       "        [ 1.17826539,  0.41492022]]])"
      ]
     },
     "execution_count": 13,
     "metadata": {},
     "output_type": "execute_result"
    }
   ],
   "source": [
    "data1"
   ]
  },
  {
   "cell_type": "code",
   "execution_count": 3,
   "id": "26f2a106",
   "metadata": {},
   "outputs": [],
   "source": [
    "import numpy as np"
   ]
  },
  {
   "cell_type": "code",
   "execution_count": 4,
   "id": "6870cb39",
   "metadata": {},
   "outputs": [],
   "source": [
    "points = np.arange(-5,5,0.01)"
   ]
  },
  {
   "cell_type": "code",
   "execution_count": null,
   "id": "c20a3f5d",
   "metadata": {},
   "outputs": [],
   "source": [
    "np.meshgrid()"
   ]
  },
  {
   "cell_type": "code",
   "execution_count": null,
   "id": "0e425361",
   "metadata": {},
   "outputs": [],
   "source": []
  }
 ],
 "metadata": {
  "kernelspec": {
   "display_name": "Python 3",
   "language": "python",
   "name": "python3"
  },
  "language_info": {
   "codemirror_mode": {
    "name": "ipython",
    "version": 3
   },
   "file_extension": ".py",
   "mimetype": "text/x-python",
   "name": "python",
   "nbconvert_exporter": "python",
   "pygments_lexer": "ipython3",
   "version": "3.8.8"
  }
 },
 "nbformat": 4,
 "nbformat_minor": 5
}
