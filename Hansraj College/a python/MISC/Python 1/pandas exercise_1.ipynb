{
 "cells": [
  {
   "cell_type": "markdown",
   "id": "0cb7bf8e",
   "metadata": {},
   "source": [
    "# 1. Create the following pandas dataframe with marks for Ajay, Manan, Usha and Vijay each column representing marks in Biology, Physics, Chemistry, Math and English."
   ]
  },
  {
   "cell_type": "code",
   "execution_count": 1,
   "id": "c2d638cf",
   "metadata": {},
   "outputs": [],
   "source": [
    "import pandas as pd"
   ]
  },
  {
   "cell_type": "code",
   "execution_count": 2,
   "id": "dcfdd02f",
   "metadata": {},
   "outputs": [],
   "source": [
    "import numpy as np"
   ]
  },
  {
   "cell_type": "code",
   "execution_count": 3,
   "id": "5c467c04",
   "metadata": {},
   "outputs": [],
   "source": [
    "mks = np.array([85,67,78,99,78,94,69,77,89,67,93,90,89,90,56,90,78,60,78,77])"
   ]
  },
  {
   "cell_type": "code",
   "execution_count": 4,
   "id": "36266434",
   "metadata": {},
   "outputs": [],
   "source": [
    "marks = pd.DataFrame(mks.reshape(4,5),index='Ajay Manan Usha Vijay'.split(),columns='Bio. Phy. Chem. Math Eng.'.split())"
   ]
  },
  {
   "cell_type": "code",
   "execution_count": 5,
   "id": "01e455dd",
   "metadata": {},
   "outputs": [
    {
     "data": {
      "text/html": [
       "<div>\n",
       "<style scoped>\n",
       "    .dataframe tbody tr th:only-of-type {\n",
       "        vertical-align: middle;\n",
       "    }\n",
       "\n",
       "    .dataframe tbody tr th {\n",
       "        vertical-align: top;\n",
       "    }\n",
       "\n",
       "    .dataframe thead th {\n",
       "        text-align: right;\n",
       "    }\n",
       "</style>\n",
       "<table border=\"1\" class=\"dataframe\">\n",
       "  <thead>\n",
       "    <tr style=\"text-align: right;\">\n",
       "      <th></th>\n",
       "      <th>Bio.</th>\n",
       "      <th>Phy.</th>\n",
       "      <th>Chem.</th>\n",
       "      <th>Math</th>\n",
       "      <th>Eng.</th>\n",
       "    </tr>\n",
       "  </thead>\n",
       "  <tbody>\n",
       "    <tr>\n",
       "      <th>Ajay</th>\n",
       "      <td>85</td>\n",
       "      <td>67</td>\n",
       "      <td>78</td>\n",
       "      <td>99</td>\n",
       "      <td>78</td>\n",
       "    </tr>\n",
       "    <tr>\n",
       "      <th>Manan</th>\n",
       "      <td>94</td>\n",
       "      <td>69</td>\n",
       "      <td>77</td>\n",
       "      <td>89</td>\n",
       "      <td>67</td>\n",
       "    </tr>\n",
       "    <tr>\n",
       "      <th>Usha</th>\n",
       "      <td>93</td>\n",
       "      <td>90</td>\n",
       "      <td>89</td>\n",
       "      <td>90</td>\n",
       "      <td>56</td>\n",
       "    </tr>\n",
       "    <tr>\n",
       "      <th>Vijay</th>\n",
       "      <td>90</td>\n",
       "      <td>78</td>\n",
       "      <td>60</td>\n",
       "      <td>78</td>\n",
       "      <td>77</td>\n",
       "    </tr>\n",
       "  </tbody>\n",
       "</table>\n",
       "</div>"
      ],
      "text/plain": [
       "       Bio.  Phy.  Chem.  Math  Eng.\n",
       "Ajay     85    67     78    99    78\n",
       "Manan    94    69     77    89    67\n",
       "Usha     93    90     89    90    56\n",
       "Vijay    90    78     60    78    77"
      ]
     },
     "execution_count": 5,
     "metadata": {},
     "output_type": "execute_result"
    }
   ],
   "source": [
    "marks"
   ]
  },
  {
   "cell_type": "markdown",
   "id": "3394c3d7",
   "metadata": {},
   "source": [
    "# 2. Pick up details of each student individually"
   ]
  },
  {
   "cell_type": "code",
   "execution_count": 6,
   "id": "372c5091",
   "metadata": {},
   "outputs": [
    {
     "data": {
      "text/plain": [
       "Bio.     85\n",
       "Phy.     67\n",
       "Chem.    78\n",
       "Math     99\n",
       "Eng.     78\n",
       "Name: Ajay, dtype: int32"
      ]
     },
     "execution_count": 6,
     "metadata": {},
     "output_type": "execute_result"
    }
   ],
   "source": [
    "marks.iloc[0]"
   ]
  },
  {
   "cell_type": "code",
   "execution_count": 7,
   "id": "e3b7ce05",
   "metadata": {},
   "outputs": [
    {
     "data": {
      "text/plain": [
       "Bio.     94\n",
       "Phy.     69\n",
       "Chem.    77\n",
       "Math     89\n",
       "Eng.     67\n",
       "Name: Manan, dtype: int32"
      ]
     },
     "execution_count": 7,
     "metadata": {},
     "output_type": "execute_result"
    }
   ],
   "source": [
    "marks.iloc[1]"
   ]
  },
  {
   "cell_type": "code",
   "execution_count": 8,
   "id": "15fca0e3",
   "metadata": {},
   "outputs": [
    {
     "data": {
      "text/plain": [
       "Bio.     93\n",
       "Phy.     90\n",
       "Chem.    89\n",
       "Math     90\n",
       "Eng.     56\n",
       "Name: Usha, dtype: int32"
      ]
     },
     "execution_count": 8,
     "metadata": {},
     "output_type": "execute_result"
    }
   ],
   "source": [
    "marks.iloc[2]"
   ]
  },
  {
   "cell_type": "code",
   "execution_count": 9,
   "id": "9c34137c",
   "metadata": {},
   "outputs": [
    {
     "data": {
      "text/plain": [
       "Bio.     90\n",
       "Phy.     78\n",
       "Chem.    60\n",
       "Math     78\n",
       "Eng.     77\n",
       "Name: Vijay, dtype: int32"
      ]
     },
     "execution_count": 9,
     "metadata": {},
     "output_type": "execute_result"
    }
   ],
   "source": [
    "marks.iloc[3]"
   ]
  },
  {
   "cell_type": "markdown",
   "id": "473a1dac",
   "metadata": {},
   "source": [
    "# 3. Pick up the details of students whose marks in Physics are more than 70."
   ]
  },
  {
   "cell_type": "code",
   "execution_count": 10,
   "id": "9c55d0b2",
   "metadata": {},
   "outputs": [
    {
     "data": {
      "text/html": [
       "<div>\n",
       "<style scoped>\n",
       "    .dataframe tbody tr th:only-of-type {\n",
       "        vertical-align: middle;\n",
       "    }\n",
       "\n",
       "    .dataframe tbody tr th {\n",
       "        vertical-align: top;\n",
       "    }\n",
       "\n",
       "    .dataframe thead th {\n",
       "        text-align: right;\n",
       "    }\n",
       "</style>\n",
       "<table border=\"1\" class=\"dataframe\">\n",
       "  <thead>\n",
       "    <tr style=\"text-align: right;\">\n",
       "      <th></th>\n",
       "      <th>Bio.</th>\n",
       "      <th>Phy.</th>\n",
       "      <th>Chem.</th>\n",
       "      <th>Math</th>\n",
       "      <th>Eng.</th>\n",
       "    </tr>\n",
       "  </thead>\n",
       "  <tbody>\n",
       "    <tr>\n",
       "      <th>Usha</th>\n",
       "      <td>93</td>\n",
       "      <td>90</td>\n",
       "      <td>89</td>\n",
       "      <td>90</td>\n",
       "      <td>56</td>\n",
       "    </tr>\n",
       "    <tr>\n",
       "      <th>Vijay</th>\n",
       "      <td>90</td>\n",
       "      <td>78</td>\n",
       "      <td>60</td>\n",
       "      <td>78</td>\n",
       "      <td>77</td>\n",
       "    </tr>\n",
       "  </tbody>\n",
       "</table>\n",
       "</div>"
      ],
      "text/plain": [
       "       Bio.  Phy.  Chem.  Math  Eng.\n",
       "Usha     93    90     89    90    56\n",
       "Vijay    90    78     60    78    77"
      ]
     },
     "execution_count": 10,
     "metadata": {},
     "output_type": "execute_result"
    }
   ],
   "source": [
    "marks[marks['Phy.']>70]"
   ]
  },
  {
   "cell_type": "markdown",
   "id": "fd9a2edb",
   "metadata": {},
   "source": [
    "# 4. Pick up the Math and English marks of students whose marks in Physics are more than 70."
   ]
  },
  {
   "cell_type": "code",
   "execution_count": 11,
   "id": "98cded27",
   "metadata": {},
   "outputs": [
    {
     "data": {
      "text/html": [
       "<div>\n",
       "<style scoped>\n",
       "    .dataframe tbody tr th:only-of-type {\n",
       "        vertical-align: middle;\n",
       "    }\n",
       "\n",
       "    .dataframe tbody tr th {\n",
       "        vertical-align: top;\n",
       "    }\n",
       "\n",
       "    .dataframe thead th {\n",
       "        text-align: right;\n",
       "    }\n",
       "</style>\n",
       "<table border=\"1\" class=\"dataframe\">\n",
       "  <thead>\n",
       "    <tr style=\"text-align: right;\">\n",
       "      <th></th>\n",
       "      <th>Math</th>\n",
       "      <th>Eng.</th>\n",
       "    </tr>\n",
       "  </thead>\n",
       "  <tbody>\n",
       "    <tr>\n",
       "      <th>Usha</th>\n",
       "      <td>90</td>\n",
       "      <td>56</td>\n",
       "    </tr>\n",
       "    <tr>\n",
       "      <th>Vijay</th>\n",
       "      <td>78</td>\n",
       "      <td>77</td>\n",
       "    </tr>\n",
       "  </tbody>\n",
       "</table>\n",
       "</div>"
      ],
      "text/plain": [
       "       Math  Eng.\n",
       "Usha     90    56\n",
       "Vijay    78    77"
      ]
     },
     "execution_count": 11,
     "metadata": {},
     "output_type": "execute_result"
    }
   ],
   "source": [
    "marks[marks['Phy.']>70][['Math','Eng.']]"
   ]
  },
  {
   "cell_type": "markdown",
   "id": "f3ef542d",
   "metadata": {},
   "source": [
    "# 5. Pick up the details of students whose marks in Physics are more than 70 and marks in Chemistry are more than 80."
   ]
  },
  {
   "cell_type": "code",
   "execution_count": 12,
   "id": "a59e3030",
   "metadata": {},
   "outputs": [
    {
     "data": {
      "text/html": [
       "<div>\n",
       "<style scoped>\n",
       "    .dataframe tbody tr th:only-of-type {\n",
       "        vertical-align: middle;\n",
       "    }\n",
       "\n",
       "    .dataframe tbody tr th {\n",
       "        vertical-align: top;\n",
       "    }\n",
       "\n",
       "    .dataframe thead th {\n",
       "        text-align: right;\n",
       "    }\n",
       "</style>\n",
       "<table border=\"1\" class=\"dataframe\">\n",
       "  <thead>\n",
       "    <tr style=\"text-align: right;\">\n",
       "      <th></th>\n",
       "      <th>Bio.</th>\n",
       "      <th>Phy.</th>\n",
       "      <th>Chem.</th>\n",
       "      <th>Math</th>\n",
       "      <th>Eng.</th>\n",
       "    </tr>\n",
       "  </thead>\n",
       "  <tbody>\n",
       "    <tr>\n",
       "      <th>Usha</th>\n",
       "      <td>93</td>\n",
       "      <td>90</td>\n",
       "      <td>89</td>\n",
       "      <td>90</td>\n",
       "      <td>56</td>\n",
       "    </tr>\n",
       "  </tbody>\n",
       "</table>\n",
       "</div>"
      ],
      "text/plain": [
       "      Bio.  Phy.  Chem.  Math  Eng.\n",
       "Usha    93    90     89    90    56"
      ]
     },
     "execution_count": 12,
     "metadata": {},
     "output_type": "execute_result"
    }
   ],
   "source": [
    "marks[(marks['Phy.']>70) & (marks['Chem.']>80)]"
   ]
  }
 ],
 "metadata": {
  "kernelspec": {
   "display_name": "Python 3",
   "language": "python",
   "name": "python3"
  },
  "language_info": {
   "codemirror_mode": {
    "name": "ipython",
    "version": 3
   },
   "file_extension": ".py",
   "mimetype": "text/x-python",
   "name": "python",
   "nbconvert_exporter": "python",
   "pygments_lexer": "ipython3",
   "version": "3.8.8"
  }
 },
 "nbformat": 4,
 "nbformat_minor": 5
}
