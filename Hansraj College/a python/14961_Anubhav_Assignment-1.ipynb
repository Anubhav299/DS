{
 "cells": [
  {
   "cell_type": "code",
   "execution_count": 1,
   "id": "f25787ac",
   "metadata": {},
   "outputs": [],
   "source": [
    "import pandas as pd"
   ]
  },
  {
   "cell_type": "code",
   "execution_count": 2,
   "id": "ae05216f",
   "metadata": {},
   "outputs": [],
   "source": [
    "import numpy as np"
   ]
  },
  {
   "cell_type": "code",
   "execution_count": 19,
   "id": "e780aea5",
   "metadata": {},
   "outputs": [],
   "source": [
    "wt = pd.read_csv('weather_temp.csv')"
   ]
  },
  {
   "cell_type": "code",
   "execution_count": 20,
   "id": "89f86e46",
   "metadata": {},
   "outputs": [
    {
     "data": {
      "text/html": [
       "<div>\n",
       "<style scoped>\n",
       "    .dataframe tbody tr th:only-of-type {\n",
       "        vertical-align: middle;\n",
       "    }\n",
       "\n",
       "    .dataframe tbody tr th {\n",
       "        vertical-align: top;\n",
       "    }\n",
       "\n",
       "    .dataframe thead th {\n",
       "        text-align: right;\n",
       "    }\n",
       "</style>\n",
       "<table border=\"1\" class=\"dataframe\">\n",
       "  <thead>\n",
       "    <tr style=\"text-align: right;\">\n",
       "      <th></th>\n",
       "      <th>Outlook</th>\n",
       "      <th>Temperature</th>\n",
       "      <th>Humidity</th>\n",
       "      <th>Wind</th>\n",
       "      <th>Play</th>\n",
       "    </tr>\n",
       "  </thead>\n",
       "  <tbody>\n",
       "    <tr>\n",
       "      <th>0</th>\n",
       "      <td>Rainy</td>\n",
       "      <td>27.0</td>\n",
       "      <td>NaN</td>\n",
       "      <td>NaN</td>\n",
       "      <td>No</td>\n",
       "    </tr>\n",
       "    <tr>\n",
       "      <th>1</th>\n",
       "      <td>Rainy</td>\n",
       "      <td>37.0</td>\n",
       "      <td>90.0</td>\n",
       "      <td>Yes</td>\n",
       "      <td>No</td>\n",
       "    </tr>\n",
       "    <tr>\n",
       "      <th>2</th>\n",
       "      <td>Overcast</td>\n",
       "      <td>40.0</td>\n",
       "      <td>86.0</td>\n",
       "      <td>No</td>\n",
       "      <td>Yes</td>\n",
       "    </tr>\n",
       "    <tr>\n",
       "      <th>3</th>\n",
       "      <td>Sunny</td>\n",
       "      <td>25.0</td>\n",
       "      <td>96.0</td>\n",
       "      <td>No</td>\n",
       "      <td>Yes</td>\n",
       "    </tr>\n",
       "    <tr>\n",
       "      <th>4</th>\n",
       "      <td>Sunny</td>\n",
       "      <td>17.0</td>\n",
       "      <td>80.0</td>\n",
       "      <td>No</td>\n",
       "      <td>Yes</td>\n",
       "    </tr>\n",
       "    <tr>\n",
       "      <th>5</th>\n",
       "      <td>Sunny</td>\n",
       "      <td>18.0</td>\n",
       "      <td>70.0</td>\n",
       "      <td>Yes</td>\n",
       "      <td>No</td>\n",
       "    </tr>\n",
       "    <tr>\n",
       "      <th>6</th>\n",
       "      <td>Overcast</td>\n",
       "      <td>18.0</td>\n",
       "      <td>65.0</td>\n",
       "      <td>Yes</td>\n",
       "      <td>Yes</td>\n",
       "    </tr>\n",
       "    <tr>\n",
       "      <th>7</th>\n",
       "      <td>Rainy</td>\n",
       "      <td>23.0</td>\n",
       "      <td>95.0</td>\n",
       "      <td>No</td>\n",
       "      <td>No</td>\n",
       "    </tr>\n",
       "    <tr>\n",
       "      <th>8</th>\n",
       "      <td>Rainy</td>\n",
       "      <td>18.0</td>\n",
       "      <td>NaN</td>\n",
       "      <td>No</td>\n",
       "      <td>Yes</td>\n",
       "    </tr>\n",
       "    <tr>\n",
       "      <th>9</th>\n",
       "      <td>Sunny</td>\n",
       "      <td>24.0</td>\n",
       "      <td>80.0</td>\n",
       "      <td>No</td>\n",
       "      <td>Yes</td>\n",
       "    </tr>\n",
       "    <tr>\n",
       "      <th>10</th>\n",
       "      <td>Rainy</td>\n",
       "      <td>26.0</td>\n",
       "      <td>70.0</td>\n",
       "      <td>Yes</td>\n",
       "      <td>Yes</td>\n",
       "    </tr>\n",
       "    <tr>\n",
       "      <th>11</th>\n",
       "      <td>Overcast</td>\n",
       "      <td>25.0</td>\n",
       "      <td>90.0</td>\n",
       "      <td>Yes</td>\n",
       "      <td>Yes</td>\n",
       "    </tr>\n",
       "    <tr>\n",
       "      <th>12</th>\n",
       "      <td>Overcast</td>\n",
       "      <td>36.0</td>\n",
       "      <td>75.0</td>\n",
       "      <td>No</td>\n",
       "      <td>Yes</td>\n",
       "    </tr>\n",
       "    <tr>\n",
       "      <th>13</th>\n",
       "      <td>Sunny</td>\n",
       "      <td>26.0</td>\n",
       "      <td>91.0</td>\n",
       "      <td>Yes</td>\n",
       "      <td>No</td>\n",
       "    </tr>\n",
       "    <tr>\n",
       "      <th>14</th>\n",
       "      <td>Rainy</td>\n",
       "      <td>NaN</td>\n",
       "      <td>70.0</td>\n",
       "      <td>Yes</td>\n",
       "      <td>Yes</td>\n",
       "    </tr>\n",
       "  </tbody>\n",
       "</table>\n",
       "</div>"
      ],
      "text/plain": [
       "     Outlook  Temperature  Humidity Wind Play\n",
       "0      Rainy         27.0       NaN  NaN   No\n",
       "1      Rainy         37.0      90.0  Yes   No\n",
       "2   Overcast         40.0      86.0   No  Yes\n",
       "3      Sunny         25.0      96.0   No  Yes\n",
       "4      Sunny         17.0      80.0   No  Yes\n",
       "5      Sunny         18.0      70.0  Yes   No\n",
       "6   Overcast         18.0      65.0  Yes  Yes\n",
       "7      Rainy         23.0      95.0   No   No\n",
       "8      Rainy         18.0       NaN   No  Yes\n",
       "9      Sunny         24.0      80.0   No  Yes\n",
       "10     Rainy         26.0      70.0  Yes  Yes\n",
       "11  Overcast         25.0      90.0  Yes  Yes\n",
       "12  Overcast         36.0      75.0   No  Yes\n",
       "13     Sunny         26.0      91.0  Yes   No\n",
       "14     Rainy          NaN      70.0  Yes  Yes"
      ]
     },
     "execution_count": 20,
     "metadata": {},
     "output_type": "execute_result"
    }
   ],
   "source": [
    "wt"
   ]
  },
  {
   "cell_type": "markdown",
   "id": "56b5982e",
   "metadata": {},
   "source": [
    "# Count and handle NULL values. Give reason for each."
   ]
  },
  {
   "cell_type": "code",
   "execution_count": 58,
   "id": "96210074",
   "metadata": {},
   "outputs": [
    {
     "data": {
      "text/plain": [
       "Outlook        0\n",
       "Temperature    0\n",
       "Humidity       2\n",
       "Wind           1\n",
       "Play           0\n",
       "dtype: int64"
      ]
     },
     "execution_count": 58,
     "metadata": {},
     "output_type": "execute_result"
    }
   ],
   "source": [
    "wt.isna().sum()"
   ]
  },
  {
   "cell_type": "code",
   "execution_count": 59,
   "id": "b6f9985c",
   "metadata": {},
   "outputs": [],
   "source": [
    "wt['Temperature']=wt['Temperature'].fillna(wt['Temperature'].mean())"
   ]
  },
  {
   "cell_type": "code",
   "execution_count": null,
   "id": "3bc81a33",
   "metadata": {},
   "outputs": [],
   "source": [
    "wt['Humidity']=wt['Humidity'].fillna(wt['Humidity'].median())"
   ]
  },
  {
   "cell_type": "code",
   "execution_count": 61,
   "id": "6686224f",
   "metadata": {},
   "outputs": [],
   "source": [
    "wt['Wind']=wt['Wind'].fillna(wt['Wind'].mode())"
   ]
  },
  {
   "cell_type": "markdown",
   "id": "799c4790",
   "metadata": {},
   "source": [
    "# Compute mean, mode, median and standard deviation of the variables. "
   ]
  },
  {
   "cell_type": "markdown",
   "id": "4c27998e",
   "metadata": {},
   "source": [
    "the mean is calculated of temperature and humidity because all other are strings."
   ]
  },
  {
   "cell_type": "code",
   "execution_count": 29,
   "id": "e1fabf48",
   "metadata": {},
   "outputs": [
    {
     "data": {
      "text/plain": [
       "Temperature    25.714286\n",
       "Humidity       81.384615\n",
       "dtype: float64"
      ]
     },
     "execution_count": 29,
     "metadata": {},
     "output_type": "execute_result"
    }
   ],
   "source": [
    "wt.mean()"
   ]
  },
  {
   "cell_type": "markdown",
   "id": "67b58444",
   "metadata": {},
   "source": [
    "the mode tells us about the most occuring value\n",
    "so mode temperature is 18 indicating that 18 is most occuring temperature in the recorded data\n"
   ]
  },
  {
   "cell_type": "code",
   "execution_count": 40,
   "id": "7f6861de",
   "metadata": {},
   "outputs": [
    {
     "data": {
      "text/html": [
       "<div>\n",
       "<style scoped>\n",
       "    .dataframe tbody tr th:only-of-type {\n",
       "        vertical-align: middle;\n",
       "    }\n",
       "\n",
       "    .dataframe tbody tr th {\n",
       "        vertical-align: top;\n",
       "    }\n",
       "\n",
       "    .dataframe thead th {\n",
       "        text-align: right;\n",
       "    }\n",
       "</style>\n",
       "<table border=\"1\" class=\"dataframe\">\n",
       "  <thead>\n",
       "    <tr style=\"text-align: right;\">\n",
       "      <th></th>\n",
       "      <th>Outlook</th>\n",
       "      <th>Temperature</th>\n",
       "      <th>Humidity</th>\n",
       "      <th>Wind</th>\n",
       "      <th>Play</th>\n",
       "    </tr>\n",
       "  </thead>\n",
       "  <tbody>\n",
       "    <tr>\n",
       "      <th>0</th>\n",
       "      <td>Rainy</td>\n",
       "      <td>18.0</td>\n",
       "      <td>70.0</td>\n",
       "      <td>No</td>\n",
       "      <td>Yes</td>\n",
       "    </tr>\n",
       "    <tr>\n",
       "      <th>1</th>\n",
       "      <td>NaN</td>\n",
       "      <td>NaN</td>\n",
       "      <td>NaN</td>\n",
       "      <td>Yes</td>\n",
       "      <td>NaN</td>\n",
       "    </tr>\n",
       "  </tbody>\n",
       "</table>\n",
       "</div>"
      ],
      "text/plain": [
       "  Outlook  Temperature  Humidity Wind Play\n",
       "0   Rainy         18.0      70.0   No  Yes\n",
       "1     NaN          NaN       NaN  Yes  NaN"
      ]
     },
     "execution_count": 40,
     "metadata": {},
     "output_type": "execute_result"
    }
   ],
   "source": [
    "wt.mode()"
   ]
  },
  {
   "cell_type": "markdown",
   "id": "5b9791f5",
   "metadata": {},
   "source": [
    "the median is the value separating the higher half from the lower half of a data sample"
   ]
  },
  {
   "cell_type": "code",
   "execution_count": 39,
   "id": "bdb5a255",
   "metadata": {},
   "outputs": [
    {
     "data": {
      "text/plain": [
       "Temperature    25.0\n",
       "Humidity       80.0\n",
       "dtype: float64"
      ]
     },
     "execution_count": 39,
     "metadata": {},
     "output_type": "execute_result"
    }
   ],
   "source": [
    "wt.median()"
   ]
  },
  {
   "cell_type": "code",
   "execution_count": null,
   "id": "6dd5f15d",
   "metadata": {},
   "outputs": [],
   "source": []
  },
  {
   "cell_type": "code",
   "execution_count": 62,
   "id": "6cda49ac",
   "metadata": {},
   "outputs": [
    {
     "data": {
      "text/plain": [
       "Temperature     7.095558\n",
       "Humidity       10.657849\n",
       "dtype: float64"
      ]
     },
     "execution_count": 62,
     "metadata": {},
     "output_type": "execute_result"
    }
   ],
   "source": [
    "wt.std()"
   ]
  },
  {
   "cell_type": "markdown",
   "id": "f794d460",
   "metadata": {},
   "source": [
    "# Compute covariance and correlation between temperature and humidity. Comment. Standardise the variables and compute covariance and correlation again. Comment. "
   ]
  },
  {
   "cell_type": "markdown",
   "id": "90839a86",
   "metadata": {},
   "source": [
    "Covariance is a measure to indicate the extent to \n",
    "which two random variables change with change in the other one.\n",
    "Thus 24.1818... which is a positive value represents that there is a \n",
    "positive relation between Temperature and Humidity.\n",
    "Thus an increase in Temperature will have an increase in Humidity."
   ]
  },
  {
   "cell_type": "code",
   "execution_count": 54,
   "id": "489d83e2",
   "metadata": {},
   "outputs": [
    {
     "data": {
      "text/plain": [
       "24.181818181818183"
      ]
     },
     "execution_count": 54,
     "metadata": {},
     "output_type": "execute_result"
    }
   ],
   "source": [
    "wt['Temperature'].cov(wt['Humidity'])"
   ]
  },
  {
   "cell_type": "markdown",
   "id": "cc24db3d",
   "metadata": {},
   "source": [
    "Correlation is a measure used to represent how strongly \n",
    "two random variables are related to each other.\n",
    "Thus a value of +1 represents a strong direct relationship in Temperature and Humidity\n",
    "(meaning an increase in Temperature would also increase Humidity)\n",
    "where as 0 would represent that there is no linear relation between the two\n",
    "and -1 would imply that an inverse relationship.\n",
    "Here 0.300 represents a feeble direct relationship."
   ]
  },
  {
   "cell_type": "code",
   "execution_count": 67,
   "id": "c7ab8d87",
   "metadata": {},
   "outputs": [
    {
     "data": {
      "text/plain": [
       "0.2912071151997505"
      ]
     },
     "execution_count": 67,
     "metadata": {},
     "output_type": "execute_result"
    }
   ],
   "source": [
    "wt['Temperature'].corr(wt['Humidity'])"
   ]
  },
  {
   "cell_type": "markdown",
   "id": "386ae554",
   "metadata": {},
   "source": [
    "DataFramed values for better representation "
   ]
  },
  {
   "cell_type": "code",
   "execution_count": 66,
   "id": "2e972a1e",
   "metadata": {},
   "outputs": [
    {
     "data": {
      "text/html": [
       "<div>\n",
       "<style scoped>\n",
       "    .dataframe tbody tr th:only-of-type {\n",
       "        vertical-align: middle;\n",
       "    }\n",
       "\n",
       "    .dataframe tbody tr th {\n",
       "        vertical-align: top;\n",
       "    }\n",
       "\n",
       "    .dataframe thead th {\n",
       "        text-align: right;\n",
       "    }\n",
       "</style>\n",
       "<table border=\"1\" class=\"dataframe\">\n",
       "  <thead>\n",
       "    <tr style=\"text-align: right;\">\n",
       "      <th></th>\n",
       "      <th>Temperature</th>\n",
       "      <th>Humidity</th>\n",
       "    </tr>\n",
       "  </thead>\n",
       "  <tbody>\n",
       "    <tr>\n",
       "      <th>Temperature</th>\n",
       "      <td>50.346939</td>\n",
       "      <td>22.674908</td>\n",
       "    </tr>\n",
       "    <tr>\n",
       "      <th>Humidity</th>\n",
       "      <td>22.674908</td>\n",
       "      <td>113.589744</td>\n",
       "    </tr>\n",
       "  </tbody>\n",
       "</table>\n",
       "</div>"
      ],
      "text/plain": [
       "             Temperature    Humidity\n",
       "Temperature    50.346939   22.674908\n",
       "Humidity       22.674908  113.589744"
      ]
     },
     "execution_count": 66,
     "metadata": {},
     "output_type": "execute_result"
    }
   ],
   "source": [
    "wt.cov()"
   ]
  },
  {
   "cell_type": "code",
   "execution_count": 65,
   "id": "d4adbd61",
   "metadata": {},
   "outputs": [
    {
     "data": {
      "text/html": [
       "<div>\n",
       "<style scoped>\n",
       "    .dataframe tbody tr th:only-of-type {\n",
       "        vertical-align: middle;\n",
       "    }\n",
       "\n",
       "    .dataframe tbody tr th {\n",
       "        vertical-align: top;\n",
       "    }\n",
       "\n",
       "    .dataframe thead th {\n",
       "        text-align: right;\n",
       "    }\n",
       "</style>\n",
       "<table border=\"1\" class=\"dataframe\">\n",
       "  <thead>\n",
       "    <tr style=\"text-align: right;\">\n",
       "      <th></th>\n",
       "      <th>Temperature</th>\n",
       "      <th>Humidity</th>\n",
       "    </tr>\n",
       "  </thead>\n",
       "  <tbody>\n",
       "    <tr>\n",
       "      <th>Temperature</th>\n",
       "      <td>1.000000</td>\n",
       "      <td>0.291207</td>\n",
       "    </tr>\n",
       "    <tr>\n",
       "      <th>Humidity</th>\n",
       "      <td>0.291207</td>\n",
       "      <td>1.000000</td>\n",
       "    </tr>\n",
       "  </tbody>\n",
       "</table>\n",
       "</div>"
      ],
      "text/plain": [
       "             Temperature  Humidity\n",
       "Temperature     1.000000  0.291207\n",
       "Humidity        0.291207  1.000000"
      ]
     },
     "execution_count": 65,
     "metadata": {},
     "output_type": "execute_result"
    }
   ],
   "source": [
    "wt.corr()"
   ]
  },
  {
   "cell_type": "markdown",
   "id": "28d7480d",
   "metadata": {},
   "source": [
    "# Build contingency table for count of outlook and wind conditions on play"
   ]
  },
  {
   "cell_type": "code",
   "execution_count": 56,
   "id": "e1249190",
   "metadata": {},
   "outputs": [
    {
     "data": {
      "text/html": [
       "<div>\n",
       "<style scoped>\n",
       "    .dataframe tbody tr th:only-of-type {\n",
       "        vertical-align: middle;\n",
       "    }\n",
       "\n",
       "    .dataframe tbody tr th {\n",
       "        vertical-align: top;\n",
       "    }\n",
       "\n",
       "    .dataframe thead th {\n",
       "        text-align: right;\n",
       "    }\n",
       "</style>\n",
       "<table border=\"1\" class=\"dataframe\">\n",
       "  <thead>\n",
       "    <tr style=\"text-align: right;\">\n",
       "      <th></th>\n",
       "      <th>Play</th>\n",
       "      <th>No</th>\n",
       "      <th>Yes</th>\n",
       "      <th>Count</th>\n",
       "    </tr>\n",
       "    <tr>\n",
       "      <th>Outlook</th>\n",
       "      <th>Wind</th>\n",
       "      <th></th>\n",
       "      <th></th>\n",
       "      <th></th>\n",
       "    </tr>\n",
       "  </thead>\n",
       "  <tbody>\n",
       "    <tr>\n",
       "      <th rowspan=\"2\" valign=\"top\">Overcast</th>\n",
       "      <th>No</th>\n",
       "      <td>0</td>\n",
       "      <td>2</td>\n",
       "      <td>2</td>\n",
       "    </tr>\n",
       "    <tr>\n",
       "      <th>Yes</th>\n",
       "      <td>0</td>\n",
       "      <td>2</td>\n",
       "      <td>2</td>\n",
       "    </tr>\n",
       "    <tr>\n",
       "      <th rowspan=\"2\" valign=\"top\">Rainy</th>\n",
       "      <th>No</th>\n",
       "      <td>1</td>\n",
       "      <td>1</td>\n",
       "      <td>2</td>\n",
       "    </tr>\n",
       "    <tr>\n",
       "      <th>Yes</th>\n",
       "      <td>1</td>\n",
       "      <td>2</td>\n",
       "      <td>3</td>\n",
       "    </tr>\n",
       "    <tr>\n",
       "      <th rowspan=\"2\" valign=\"top\">Sunny</th>\n",
       "      <th>No</th>\n",
       "      <td>0</td>\n",
       "      <td>3</td>\n",
       "      <td>3</td>\n",
       "    </tr>\n",
       "    <tr>\n",
       "      <th>Yes</th>\n",
       "      <td>2</td>\n",
       "      <td>0</td>\n",
       "      <td>2</td>\n",
       "    </tr>\n",
       "    <tr>\n",
       "      <th>Count</th>\n",
       "      <th></th>\n",
       "      <td>4</td>\n",
       "      <td>10</td>\n",
       "      <td>14</td>\n",
       "    </tr>\n",
       "  </tbody>\n",
       "</table>\n",
       "</div>"
      ],
      "text/plain": [
       "Play           No  Yes  Count\n",
       "Outlook  Wind                \n",
       "Overcast No     0    2      2\n",
       "         Yes    0    2      2\n",
       "Rainy    No     1    1      2\n",
       "         Yes    1    2      3\n",
       "Sunny    No     0    3      3\n",
       "         Yes    2    0      2\n",
       "Count           4   10     14"
      ]
     },
     "execution_count": 56,
     "metadata": {},
     "output_type": "execute_result"
    }
   ],
   "source": [
    "pd.crosstab([wt.Outlook,wt.Wind],wt.Play,margins=True,margins_name='Count')"
   ]
  },
  {
   "cell_type": "code",
   "execution_count": null,
   "id": "de73d889",
   "metadata": {},
   "outputs": [],
   "source": []
  }
 ],
 "metadata": {
  "kernelspec": {
   "display_name": "Python 3",
   "language": "python",
   "name": "python3"
  },
  "language_info": {
   "codemirror_mode": {
    "name": "ipython",
    "version": 3
   },
   "file_extension": ".py",
   "mimetype": "text/x-python",
   "name": "python",
   "nbconvert_exporter": "python",
   "pygments_lexer": "ipython3",
   "version": "3.8.8"
  }
 },
 "nbformat": 4,
 "nbformat_minor": 5
}
